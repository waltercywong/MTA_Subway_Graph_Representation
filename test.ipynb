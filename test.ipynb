{
 "cells": [
  {
   "cell_type": "code",
   "execution_count": 1,
   "id": "cb08c41a",
   "metadata": {},
   "outputs": [
    {
     "name": "stdout",
     "output_type": "stream",
     "text": [
      "Requirement already satisfied: pandas in /Users/walterwong/miniforge3/envs/project_env/lib/python3.8/site-packages (1.3.3)\n",
      "Requirement already satisfied: numpy>=1.17.3 in /Users/walterwong/miniforge3/envs/project_env/lib/python3.8/site-packages (from pandas) (1.24.3)\n",
      "Requirement already satisfied: python-dateutil>=2.7.3 in /Users/walterwong/miniforge3/envs/project_env/lib/python3.8/site-packages (from pandas) (2.9.0.post0)\n",
      "Requirement already satisfied: pytz>=2017.3 in /Users/walterwong/miniforge3/envs/project_env/lib/python3.8/site-packages (from pandas) (2024.1)\n",
      "Requirement already satisfied: six>=1.5 in /Users/walterwong/miniforge3/envs/project_env/lib/python3.8/site-packages (from python-dateutil>=2.7.3->pandas) (1.16.0)\n",
      "Requirement already satisfied: networkx in /Users/walterwong/miniforge3/envs/project_env/lib/python3.8/site-packages (3.1)\n",
      "Requirement already satisfied: networkx_query in /Users/walterwong/miniforge3/envs/project_env/lib/python3.8/site-packages (2.1.0)\n",
      "Requirement already satisfied: networkx in /Users/walterwong/miniforge3/envs/project_env/lib/python3.8/site-packages (from networkx_query) (3.1)\n",
      "Requirement already satisfied: matplotlib in /Users/walterwong/miniforge3/envs/project_env/lib/python3.8/site-packages (3.5.1)\n",
      "Requirement already satisfied: cycler>=0.10 in /Users/walterwong/miniforge3/envs/project_env/lib/python3.8/site-packages (from matplotlib) (0.11.0)\n",
      "Requirement already satisfied: fonttools>=4.22.0 in /Users/walterwong/miniforge3/envs/project_env/lib/python3.8/site-packages (from matplotlib) (4.51.0)\n",
      "Requirement already satisfied: kiwisolver>=1.0.1 in /Users/walterwong/miniforge3/envs/project_env/lib/python3.8/site-packages (from matplotlib) (1.4.4)\n",
      "Requirement already satisfied: numpy>=1.17 in /Users/walterwong/miniforge3/envs/project_env/lib/python3.8/site-packages (from matplotlib) (1.24.3)\n",
      "Requirement already satisfied: packaging>=20.0 in /Users/walterwong/miniforge3/envs/project_env/lib/python3.8/site-packages (from matplotlib) (24.1)\n",
      "Requirement already satisfied: pillow>=6.2.0 in /Users/walterwong/miniforge3/envs/project_env/lib/python3.8/site-packages (from matplotlib) (8.3.2)\n",
      "Requirement already satisfied: pyparsing>=2.2.1 in /Users/walterwong/miniforge3/envs/project_env/lib/python3.8/site-packages (from matplotlib) (3.0.9)\n",
      "Requirement already satisfied: python-dateutil>=2.7 in /Users/walterwong/miniforge3/envs/project_env/lib/python3.8/site-packages (from matplotlib) (2.9.0.post0)\n",
      "Requirement already satisfied: six>=1.5 in /Users/walterwong/miniforge3/envs/project_env/lib/python3.8/site-packages (from python-dateutil>=2.7->matplotlib) (1.16.0)\n"
     ]
    }
   ],
   "source": [
    "!pip install pandas\n",
    "!pip install networkx\n",
    "!pip install networkx_query\n",
    "!pip install matplotlib"
   ]
  },
  {
   "cell_type": "code",
   "execution_count": 2,
   "id": "56b9ac10",
   "metadata": {},
   "outputs": [],
   "source": [
    "import pandas as pd\n",
    "import networkx as nx\n",
    "import matplotlib.pyplot as plt\n",
    "import numpy as np"
   ]
  },
  {
   "cell_type": "markdown",
   "id": "23d2318e",
   "metadata": {},
   "source": [
    "### Data Preprocessing"
   ]
  },
  {
   "cell_type": "code",
   "execution_count": 3,
   "id": "649e104e",
   "metadata": {},
   "outputs": [],
   "source": [
    "rides = pd.read_csv('mta_rides.csv')\n",
    "stations = pd.read_csv('mta_stations.csv')\n",
    "sample_rides = rides.sample(20000)\n",
    "top_rides = rides.sample(200)"
   ]
  },
  {
   "cell_type": "code",
   "execution_count": 4,
   "id": "4a2338a5",
   "metadata": {},
   "outputs": [],
   "source": [
    "stations_borough = stations[['Complex ID', 'Borough']]\n",
    "stations_borough = stations_borough.drop_duplicates()\n",
    "origin_borough_rides = pd.merge(stations_borough, rides, left_on='Complex ID', right_on='Origin Station Complex ID', how='right')\n",
    "rides_complete = origin_borough_rides.rename(columns={'Borough':'Origin Borough'})\n",
    "rides_complete = pd.merge(rides_complete, stations_borough, left_on='Destination Station Complex ID', right_on='Complex ID', how='left')\n",
    "rides_complete = rides_complete.rename(columns={'Borough': 'Destination Borough'})\n",
    "rides_complete = rides_complete.drop(columns = ['Complex ID_x', 'Complex ID_y', 'Year', 'Month', 'Timestamp', 'Origin Latitude', 'Origin Longitude', 'Destination Latitude', 'Destination Longitude', 'Origin Point', 'Destination Point'])"
   ]
  },
  {
   "cell_type": "code",
   "execution_count": 5,
   "id": "7955444d",
   "metadata": {},
   "outputs": [],
   "source": [
    "G = nx.MultiDiGraph()\n",
    "    \n",
    "for i, j, k in zip(rides_complete['Origin Station Complex ID'], rides_complete['Origin Station Complex Name'], rides_complete['Origin Borough']):\n",
    "    G.add_node(i, name=j, borough=k)\n",
    "\n",
    "for i, j, k in zip(rides_complete['Destination Station Complex ID'], rides_complete['Destination Station Complex Name'], rides_complete['Destination Borough']):\n",
    "    G.add_node(i, name=j, borough=k)\n",
    "    \n",
    "origin = list(rides_complete['Origin Station Complex ID'])\n",
    "dest = list(rides_complete['Destination Station Complex ID'])\n",
    "ridership = list(rides_complete['Estimated Average Ridership'])\n",
    "dow = list(rides_complete['Day of Week'])\n",
    "hod = list(rides_complete['Hour of Day'])\n",
    "\n",
    "for i, j, k, l, m in zip(origin, dest, ridership, dow, hod):\n",
    "    G.add_edge(i, j, ridership=k, day=l, hour=m)"
   ]
  },
  {
   "cell_type": "markdown",
   "id": "dbf8de80",
   "metadata": {},
   "source": [
    "### Question 1"
   ]
  },
  {
   "cell_type": "code",
   "execution_count": 6,
   "id": "7f4cef1c",
   "metadata": {},
   "outputs": [],
   "source": [
    "# Question 1) a.\n",
    "def q1a(G):\n",
    "# Finding list of all boroughs\n",
    "    borough_list = set([i[1]['borough'] for i in G.nodes(data=True)])\n",
    "    # List of most busy origin stations in each borough\n",
    "    borough_top = []\n",
    "    # Iterating through each borough\n",
    "    for borough in borough_list:\n",
    "        # List of all stations in borough\n",
    "        stations_id = [node for node in G.nodes if G.nodes[node]['borough'] == borough]\n",
    "        # List of stations and their total ridership\n",
    "        station_ridership_list = []\n",
    "        # Iterating through each station\n",
    "        for station in stations_id:\n",
    "            # List of all unique ride pairs where station is origin\n",
    "            origin_rides = set([i for i in G.out_edges(station)])\n",
    "            # Total ridership of station\n",
    "            total_ridership = 0\n",
    "            # Iterating through each unique ride pair of stations\n",
    "            for ride in origin_rides:\n",
    "                total_ridership += sum([G.get_edge_data(ride[0], ride[1], i)['ridership'] for i in G.get_edge_data(ride[0], ride[1])])\n",
    "            station_ridership_list += [(total_ridership, station)]\n",
    "        # Sorting stations by total ridership\n",
    "        ridership_sorted = sorted(station_ridership_list, reverse=True)\n",
    "        # Getting top 5 busiest stations\n",
    "        top_5_ridership = ridership_sorted[:5]\n",
    "        borough_top += [(borough, [G.nodes[i[1]]['name'] for i in top_5_ridership])]\n",
    "    return borough_top\n",
    "\n"
   ]
  },
  {
   "cell_type": "code",
   "execution_count": 7,
   "id": "e4a0bd9a",
   "metadata": {},
   "outputs": [
    {
     "data": {
      "text/plain": [
       "[('M',\n",
       "  ['Times Sq-42 St (N,Q,R,W,S,1,2,3,7)/42 St (A,C,E)',\n",
       "   'Grand Central-42 St (S,4,5,6,7)',\n",
       "   '34 St-Herald Sq (B,D,F,M,N,Q,R,W)',\n",
       "   '14 St-Union Sq (L,N,Q,R,W,4,5,6)',\n",
       "   '34 St-Penn Station (A,C,E)']),\n",
       " ('Bk',\n",
       "  ['Atlantic Av-Barclays Ctr (B,D,N,Q,R,2,3,4,5)',\n",
       "   'Bedford Av (L)',\n",
       "   'Jay St-MetroTech (A,C,F,R)',\n",
       "   'Court St (R)/Borough Hall (2,3,4,5)',\n",
       "   'Crown Hts-Utica Av (3,4)']),\n",
       " ('Bx',\n",
       "  ['161 St-Yankee Stadium (B,D,4)',\n",
       "   '3 Av-149 St (2,5)',\n",
       "   'Parkchester (6)',\n",
       "   'Fordham Rd (4)',\n",
       "   'Hunts Point Av (6)']),\n",
       " ('Q',\n",
       "  ['74-Broadway (7)/Jackson Hts-Roosevelt Av (E,F,M,R)',\n",
       "   'Flushing-Main St (7)',\n",
       "   '103 St-Corona Plaza (7)',\n",
       "   'Sutphin Blvd-Archer Av-JFK Airport (E,J,Z)',\n",
       "   'Junction Blvd (7)'])]"
      ]
     },
     "execution_count": 7,
     "metadata": {},
     "output_type": "execute_result"
    }
   ],
   "source": [
    "q1a(G)"
   ]
  },
  {
   "cell_type": "code",
   "execution_count": 8,
   "id": "f11519d5",
   "metadata": {},
   "outputs": [],
   "source": [
    "# Question 1) b.\n",
    "def q1b(G):\n",
    "    # List of valid days of the week\n",
    "    valid_days = ['Monday', 'Tuesday', 'Wednesday']\n",
    "    # List of stations and their total ridership\n",
    "    station_ridership_list = []\n",
    "    # Iterate through each station\n",
    "    for station in G.nodes:\n",
    "        # List of all unique ride pairs where station is origin\n",
    "        origin_rides = set([i for i in G.out_edges(station)])\n",
    "        # Total ridership of station\n",
    "        total_ridership = 0\n",
    "        for ride in origin_rides:\n",
    "            # Adding ridership from valid days of the week\n",
    "            total_ridership += sum([G.get_edge_data(ride[0], ride[1], i)['ridership'] \n",
    "                                    for i in G.get_edge_data(ride[0], ride[1]) \n",
    "                                    if G.get_edge_data(ride[0], ride[1], i)['day'] in valid_days])\n",
    "        station_ridership_list += [(total_ridership, station)]\n",
    "    # Sorting stations by total ridership\n",
    "    ridership_sorted = sorted(station_ridership_list, reverse=True)\n",
    "    # Getting top 5 busiest stations\n",
    "    top_5_ridership = ridership_sorted[:5]\n",
    "    top_5_stations = [G.nodes[i[1]]['name'] for i in top_5_ridership]\n",
    "    return top_5_stations"
   ]
  },
  {
   "cell_type": "code",
   "execution_count": 9,
   "id": "31a50801",
   "metadata": {},
   "outputs": [
    {
     "data": {
      "text/plain": [
       "['Times Sq-42 St (N,Q,R,W,S,1,2,3,7)/42 St (A,C,E)',\n",
       " 'Grand Central-42 St (S,4,5,6,7)',\n",
       " '34 St-Herald Sq (B,D,F,M,N,Q,R,W)',\n",
       " '14 St-Union Sq (L,N,Q,R,W,4,5,6)',\n",
       " 'Fulton St (A,C,J,Z,2,3,4,5)']"
      ]
     },
     "execution_count": 9,
     "metadata": {},
     "output_type": "execute_result"
    }
   ],
   "source": [
    "q1b(G)"
   ]
  },
  {
   "cell_type": "code",
   "execution_count": 10,
   "id": "c932e1db",
   "metadata": {},
   "outputs": [],
   "source": [
    "# Question 1) c.\n",
    "def q1c(G):\n",
    "    # List of valid days of the week\n",
    "    valid_days = ['Saturday', 'Sunday']\n",
    "    # List of stations and their total ridership\n",
    "    station_ridership_list = []\n",
    "    # Iterate through each station\n",
    "    for station in G.nodes:\n",
    "        # List of all unique ride pairs where station is origin\n",
    "        origin_rides = set([i for i in G.out_edges(station)])\n",
    "        # Total ridership of station\n",
    "        total_ridership = 0\n",
    "        for ride in origin_rides:\n",
    "            # Adding ridership from valid days of the week\n",
    "            total_ridership += sum([G.get_edge_data(ride[0], ride[1], i)['ridership'] \n",
    "                                    for i in G.get_edge_data(ride[0], ride[1]) \n",
    "                                    if G.get_edge_data(ride[0], ride[1], i)['day'] in valid_days])\n",
    "        station_ridership_list += [(total_ridership, station)]\n",
    "    # Sorting stations by total ridership\n",
    "    ridership_sorted = sorted(station_ridership_list, reverse=True)\n",
    "    # Getting top 5 busiest stations\n",
    "    top_5_ridership = ridership_sorted[:5]\n",
    "    top_5_stations = [G.nodes[i[1]]['name'] for i in top_5_ridership]\n",
    "    return top_5_stations"
   ]
  },
  {
   "cell_type": "code",
   "execution_count": 11,
   "id": "7e7a7c1a",
   "metadata": {},
   "outputs": [
    {
     "data": {
      "text/plain": [
       "['Times Sq-42 St (N,Q,R,W,S,1,2,3,7)/42 St (A,C,E)',\n",
       " '34 St-Herald Sq (B,D,F,M,N,Q,R,W)',\n",
       " 'Grand Central-42 St (S,4,5,6,7)',\n",
       " '14 St-Union Sq (L,N,Q,R,W,4,5,6)',\n",
       " '34 St-Penn Station (A,C,E)']"
      ]
     },
     "execution_count": 11,
     "metadata": {},
     "output_type": "execute_result"
    }
   ],
   "source": [
    "q1c(G)"
   ]
  },
  {
   "cell_type": "code",
   "execution_count": 12,
   "id": "4be63fa5",
   "metadata": {},
   "outputs": [],
   "source": [
    "# Question 1) d.\n",
    "def q1d(G):\n",
    "    # List of valid hours of the day\n",
    "    valid_hours = np.arange(1, 6)\n",
    "    # List of stations and their total ridership\n",
    "    station_ridership_list = []\n",
    "    # Iterate through each station\n",
    "    for station in G.nodes:\n",
    "        # List of all unique ride pairs where station is origin\n",
    "        origin_rides = set([i for i in G.out_edges(station)])\n",
    "        # Total ridership of station\n",
    "        total_ridership = 0\n",
    "        for ride in origin_rides:\n",
    "            # Adding ridership from valid hours of the day\n",
    "            total_ridership += sum([G.get_edge_data(ride[0], ride[1], i)['ridership'] \n",
    "                                    for i in G.get_edge_data(ride[0], ride[1]) \n",
    "                                    if G.get_edge_data(ride[0], ride[1], i)['hour'] in valid_hours])\n",
    "        station_ridership_list += [(total_ridership, station)]\n",
    "    # Sorting stations by total ridership\n",
    "    ridership_sorted = sorted(station_ridership_list, reverse=True)\n",
    "    # Getting top 5 busiest stations\n",
    "    top_5_ridership = ridership_sorted[:5]\n",
    "    top_5_stations = [G.nodes[i[1]]['name'] for i in top_5_ridership]\n",
    "    return top_5_stations"
   ]
  },
  {
   "cell_type": "code",
   "execution_count": 13,
   "id": "9fd9aa3c",
   "metadata": {},
   "outputs": [
    {
     "data": {
      "text/plain": [
       "['Times Sq-42 St (N,Q,R,W,S,1,2,3,7)/42 St (A,C,E)',\n",
       " '74-Broadway (7)/Jackson Hts-Roosevelt Av (E,F,M,R)',\n",
       " 'Flushing-Main St (7)',\n",
       " '103 St-Corona Plaza (7)',\n",
       " 'Jamaica Center-Parsons/Archer (E,J,Z)']"
      ]
     },
     "execution_count": 13,
     "metadata": {},
     "output_type": "execute_result"
    }
   ],
   "source": [
    "q1d(G)"
   ]
  },
  {
   "cell_type": "code",
   "execution_count": 14,
   "id": "2d83437f",
   "metadata": {},
   "outputs": [],
   "source": [
    "# Question 1) e.\n",
    "def q1e(G):\n",
    "    # List of valid hours of the day\n",
    "    valid_hours = np.arange(6, 10)\n",
    "    # List of stations and their total ridership\n",
    "    station_ridership_list = []\n",
    "    # Iterate through each station\n",
    "    for station in G.nodes:\n",
    "        # List of all unique ride pairs where station is origin\n",
    "        origin_rides = set([i for i in G.out_edges(station)])\n",
    "        # Total ridership of station\n",
    "        total_ridership = 0\n",
    "        for ride in origin_rides:\n",
    "            # Adding ridership from valid hours of the day\n",
    "            total_ridership += sum([G.get_edge_data(ride[0], ride[1], i)['ridership'] \n",
    "                                    for i in G.get_edge_data(ride[0], ride[1]) \n",
    "                                    if G.get_edge_data(ride[0], ride[1], i)['hour'] in valid_hours])\n",
    "        station_ridership_list += [(total_ridership, station)]\n",
    "    # Sorting stations by total ridership\n",
    "    ridership_sorted = sorted(station_ridership_list, reverse=True)\n",
    "    # Getting top 5 busiest stations\n",
    "    top_5_ridership = ridership_sorted[:5]\n",
    "    top_5_stations = [G.nodes[i[1]]['name'] for i in top_5_ridership]\n",
    "    return top_5_stations"
   ]
  },
  {
   "cell_type": "code",
   "execution_count": 15,
   "id": "48444379",
   "metadata": {},
   "outputs": [
    {
     "data": {
      "text/plain": [
       "['Times Sq-42 St (N,Q,R,W,S,1,2,3,7)/42 St (A,C,E)',\n",
       " 'Grand Central-42 St (S,4,5,6,7)',\n",
       " '74-Broadway (7)/Jackson Hts-Roosevelt Av (E,F,M,R)',\n",
       " '34 St-Penn Station (1,2,3)',\n",
       " 'Flushing-Main St (7)']"
      ]
     },
     "execution_count": 15,
     "metadata": {},
     "output_type": "execute_result"
    }
   ],
   "source": [
    "q1e(G)"
   ]
  },
  {
   "cell_type": "markdown",
   "id": "71715f36",
   "metadata": {},
   "source": [
    "### Question 2"
   ]
  },
  {
   "cell_type": "code",
   "execution_count": 16,
   "id": "893f42d0",
   "metadata": {},
   "outputs": [],
   "source": [
    "# Question 2) a.\n",
    "def q2a(G):\n",
    "# Finding list of all boroughs\n",
    "    borough_list = set([i[1]['borough'] for i in G.nodes(data=True)])\n",
    "    # List of most busy origin stations in each borough\n",
    "    borough_top = []\n",
    "    # Iterating through each borough\n",
    "    for borough in borough_list:\n",
    "        # List of all stations in borough\n",
    "        stations_id = [node for node in G.nodes if G.nodes[node]['borough'] == borough]\n",
    "        # List of stations and their total ridership\n",
    "        station_ridership_list = []\n",
    "        # Iterating through each station\n",
    "        for station in stations_id:\n",
    "            # List of all unique ride pairs where station is destination\n",
    "            dest_rides = set([i for i in G.in_edges(station)])\n",
    "            # Total ridership of station\n",
    "            total_ridership = 0\n",
    "            # Iterating through each unique ride pair of stations\n",
    "            for ride in dest_rides:\n",
    "                total_ridership += sum([G.get_edge_data(ride[0], ride[1], i)['ridership'] \n",
    "                                        for i in G.get_edge_data(ride[0], ride[1])])\n",
    "            station_ridership_list += [(total_ridership, station)]\n",
    "        # Sorting stations by total ridership\n",
    "        ridership_sorted = sorted(station_ridership_list, reverse=True)\n",
    "        # Getting top 5 busiest stations\n",
    "        top_5_ridership = ridership_sorted[:5]\n",
    "        borough_top += [(borough, [G.nodes[i[1]]['name'] for i in top_5_ridership])]\n",
    "    return borough_top"
   ]
  },
  {
   "cell_type": "code",
   "execution_count": 17,
   "id": "ebb29a71",
   "metadata": {},
   "outputs": [
    {
     "data": {
      "text/plain": [
       "[('M',\n",
       "  ['Times Sq-42 St (N,Q,R,W,S,1,2,3,7)/42 St (A,C,E)',\n",
       "   'Grand Central-42 St (S,4,5,6,7)',\n",
       "   '34 St-Herald Sq (B,D,F,M,N,Q,R,W)',\n",
       "   '14 St-Union Sq (L,N,Q,R,W,4,5,6)',\n",
       "   'Fulton St (A,C,J,Z,2,3,4,5)']),\n",
       " ('Bk',\n",
       "  ['Atlantic Av-Barclays Ctr (B,D,N,Q,R,2,3,4,5)',\n",
       "   'Bedford Av (L)',\n",
       "   'Jay St-MetroTech (A,C,F,R)',\n",
       "   'Court St (R)/Borough Hall (2,3,4,5)',\n",
       "   'Crown Hts-Utica Av (3,4)']),\n",
       " ('Bx',\n",
       "  ['161 St-Yankee Stadium (B,D,4)',\n",
       "   '3 Av-149 St (2,5)',\n",
       "   'Parkchester (6)',\n",
       "   '149 St-Grand Concourse (2,4,5)',\n",
       "   'Fordham Rd (4)']),\n",
       " ('Q',\n",
       "  ['74-Broadway (7)/Jackson Hts-Roosevelt Av (E,F,M,R)',\n",
       "   'Flushing-Main St (7)',\n",
       "   'Court Sq (E,G,M,7)',\n",
       "   '103 St-Corona Plaza (7)',\n",
       "   'Junction Blvd (7)'])]"
      ]
     },
     "execution_count": 17,
     "metadata": {},
     "output_type": "execute_result"
    }
   ],
   "source": [
    "q2a(G)"
   ]
  },
  {
   "cell_type": "code",
   "execution_count": 18,
   "id": "6688be39",
   "metadata": {},
   "outputs": [],
   "source": [
    "# Question 2) b.\n",
    "def q2b(G):\n",
    "    # List of valid days of the week\n",
    "    valid_days = ['Thursday', 'Friday']\n",
    "    # List of stations and their total ridership\n",
    "    station_ridership_list = []\n",
    "    # Iterate through each station\n",
    "    for station in G.nodes:\n",
    "        # List of all unique ride pairs where station is destination\n",
    "        dest_rides = set([i for i in G.in_edges(station)])\n",
    "        # Total ridership of station\n",
    "        total_ridership = 0\n",
    "        for ride in dest_rides:\n",
    "            # Adding ridership from valid days of the week\n",
    "            total_ridership += sum([G.get_edge_data(ride[0], ride[1], i)['ridership'] \n",
    "                                    for i in G.get_edge_data(ride[0], ride[1]) \n",
    "                                    if G.get_edge_data(ride[0], ride[1], i)['day'] in valid_days])\n",
    "        station_ridership_list += [(total_ridership, station)]\n",
    "    # Sorting stations by total ridership\n",
    "    ridership_sorted = sorted(station_ridership_list, reverse=True)\n",
    "    # Getting top 5 busiest stations\n",
    "    top_5_ridership = ridership_sorted[:5]\n",
    "    top_5_stations = [G.nodes[i[1]]['name'] for i in top_5_ridership]\n",
    "    return top_5_stations"
   ]
  },
  {
   "cell_type": "code",
   "execution_count": 19,
   "id": "2caa83d1",
   "metadata": {},
   "outputs": [
    {
     "data": {
      "text/plain": [
       "['Times Sq-42 St (N,Q,R,W,S,1,2,3,7)/42 St (A,C,E)',\n",
       " 'Grand Central-42 St (S,4,5,6,7)',\n",
       " '34 St-Herald Sq (B,D,F,M,N,Q,R,W)',\n",
       " '14 St-Union Sq (L,N,Q,R,W,4,5,6)',\n",
       " 'Fulton St (A,C,J,Z,2,3,4,5)']"
      ]
     },
     "execution_count": 19,
     "metadata": {},
     "output_type": "execute_result"
    }
   ],
   "source": [
    "q2b(G)"
   ]
  },
  {
   "cell_type": "code",
   "execution_count": 20,
   "id": "93e8cba9",
   "metadata": {},
   "outputs": [],
   "source": [
    "# Question 2) c.\n",
    "def q2c(G):\n",
    "    # List of valid days of the week\n",
    "    valid_days = ['Saturday']\n",
    "    # List of stations and their total ridership\n",
    "    station_ridership_list = []\n",
    "    # Iterate through each station\n",
    "    for station in G.nodes:\n",
    "        # List of all unique ride pairs where station is destination\n",
    "        dest_rides = set([i for i in G.in_edges(station)])\n",
    "        # Total ridership of station\n",
    "        total_ridership = 0\n",
    "        for ride in dest_rides:\n",
    "            # Adding ridership from valid days of the week\n",
    "            total_ridership += sum([G.get_edge_data(ride[0], ride[1], i)['ridership'] \n",
    "                                    for i in G.get_edge_data(ride[0], ride[1]) \n",
    "                                    if G.get_edge_data(ride[0], ride[1], i)['day'] in valid_days])\n",
    "        station_ridership_list += [(total_ridership, station)]\n",
    "    # Sorting stations by total ridership\n",
    "    ridership_sorted = sorted(station_ridership_list, reverse=True)\n",
    "    # Getting top 5 busiest stations\n",
    "    top_5_ridership = ridership_sorted[:5]\n",
    "    top_5_stations = [G.nodes[i[1]]['name'] for i in top_5_ridership]\n",
    "    return top_5_stations"
   ]
  },
  {
   "cell_type": "code",
   "execution_count": 21,
   "id": "f51ff7cf",
   "metadata": {},
   "outputs": [
    {
     "data": {
      "text/plain": [
       "['Times Sq-42 St (N,Q,R,W,S,1,2,3,7)/42 St (A,C,E)',\n",
       " '34 St-Herald Sq (B,D,F,M,N,Q,R,W)',\n",
       " '14 St-Union Sq (L,N,Q,R,W,4,5,6)',\n",
       " 'Grand Central-42 St (S,4,5,6,7)',\n",
       " '34 St-Penn Station (A,C,E)']"
      ]
     },
     "execution_count": 21,
     "metadata": {},
     "output_type": "execute_result"
    }
   ],
   "source": [
    "q2c(G)"
   ]
  },
  {
   "cell_type": "code",
   "execution_count": 22,
   "id": "c358e6e9",
   "metadata": {},
   "outputs": [],
   "source": [
    "# Question 2) d.\n",
    "def q2d(G):\n",
    "    # List of valid hours of the day\n",
    "    valid_hours = np.arange(0, 6)\n",
    "    # List of stations and their total ridership\n",
    "    station_ridership_list = []\n",
    "    # Iterate through each station\n",
    "    for station in G.nodes:\n",
    "        # List of all unique ride pairs where station is destination\n",
    "        dest_rides = set([i for i in G.in_edges(station)])\n",
    "        # Total ridership of station\n",
    "        total_ridership = 0\n",
    "        for ride in dest_rides:\n",
    "            # Adding ridership from valid hours of the day\n",
    "            total_ridership += sum([G.get_edge_data(ride[0], ride[1], i)['ridership'] \n",
    "                                    for i in G.get_edge_data(ride[0], ride[1]) \n",
    "                                    if G.get_edge_data(ride[0], ride[1], i)['hour'] in valid_hours])\n",
    "        station_ridership_list += [(total_ridership, station)]\n",
    "    # Sorting stations by total ridership\n",
    "    ridership_sorted = sorted(station_ridership_list, reverse=True)\n",
    "    # Getting top 5 busiest stations\n",
    "    top_5_ridership = ridership_sorted[:5]\n",
    "    top_5_stations = [G.nodes[i[1]]['name'] for i in top_5_ridership]\n",
    "    return top_5_stations"
   ]
  },
  {
   "cell_type": "code",
   "execution_count": 23,
   "id": "4279df2a",
   "metadata": {},
   "outputs": [
    {
     "data": {
      "text/plain": [
       "['Times Sq-42 St (N,Q,R,W,S,1,2,3,7)/42 St (A,C,E)',\n",
       " 'Grand Central-42 St (S,4,5,6,7)',\n",
       " '34 St-Herald Sq (B,D,F,M,N,Q,R,W)',\n",
       " '74-Broadway (7)/Jackson Hts-Roosevelt Av (E,F,M,R)',\n",
       " 'Fulton St (A,C,J,Z,2,3,4,5)']"
      ]
     },
     "execution_count": 23,
     "metadata": {},
     "output_type": "execute_result"
    }
   ],
   "source": [
    "q2d(G)"
   ]
  },
  {
   "cell_type": "code",
   "execution_count": 24,
   "id": "92c0db69",
   "metadata": {},
   "outputs": [],
   "source": [
    "# Question 2) e.\n",
    "def q2e(G):\n",
    "    # List of valid hours of the day\n",
    "    valid_hours = np.arange(18, 22)\n",
    "    # List of stations and their total ridership\n",
    "    station_ridership_list = []\n",
    "    # Iterate through each station\n",
    "    for station in G.nodes:\n",
    "        # List of all unique ride pairs where station is destination\n",
    "        dest_rides = set([i for i in G.in_edges(station)])\n",
    "        # Total ridership of station\n",
    "        total_ridership = 0\n",
    "        for ride in dest_rides:\n",
    "            # Adding ridership from valid hours of the day\n",
    "            total_ridership += sum([G.get_edge_data(ride[0], ride[1], i)['ridership'] \n",
    "                                    for i in G.get_edge_data(ride[0], ride[1]) \n",
    "                                    if G.get_edge_data(ride[0], ride[1], i)['hour'] in valid_hours])\n",
    "        station_ridership_list += [(total_ridership, station)]\n",
    "    # Sorting stations by total ridership\n",
    "    ridership_sorted = sorted(station_ridership_list, reverse=True)\n",
    "    # Getting top 5 busiest stations\n",
    "    top_5_ridership = ridership_sorted[:5]\n",
    "    top_5_stations = [G.nodes[i[1]]['name'] for i in top_5_ridership]\n",
    "    return top_5_stations"
   ]
  },
  {
   "cell_type": "code",
   "execution_count": 25,
   "id": "475ff08a",
   "metadata": {},
   "outputs": [
    {
     "data": {
      "text/plain": [
       "['Times Sq-42 St (N,Q,R,W,S,1,2,3,7)/42 St (A,C,E)',\n",
       " 'Grand Central-42 St (S,4,5,6,7)',\n",
       " '34 St-Herald Sq (B,D,F,M,N,Q,R,W)',\n",
       " '74-Broadway (7)/Jackson Hts-Roosevelt Av (E,F,M,R)',\n",
       " '14 St-Union Sq (L,N,Q,R,W,4,5,6)']"
      ]
     },
     "execution_count": 25,
     "metadata": {},
     "output_type": "execute_result"
    }
   ],
   "source": [
    "q2e(G)"
   ]
  },
  {
   "cell_type": "markdown",
   "id": "d01b306b",
   "metadata": {},
   "source": [
    "### Question 3"
   ]
  },
  {
   "cell_type": "code",
   "execution_count": 26,
   "id": "b9f03d82",
   "metadata": {},
   "outputs": [],
   "source": [
    "# Question 3) a.\n",
    "def q3a(G):\n",
    "    # List of valid hours of the day\n",
    "    valid_hours = np.arange(13, 15)\n",
    "    # List of valid days of the week\n",
    "    valid_days = ['Monday']\n",
    "    # List of station pairs and their total ridership\n",
    "    station_pairs_ridership_list = []\n",
    "    # Iterate through each station\n",
    "    for station in G.nodes:\n",
    "        # List of all unique ride pairs where station is destination\n",
    "        origin_rides = set([i for i in G.out_edges(station)])\n",
    "        for ride in origin_rides:\n",
    "            total_ridership = sum([G.get_edge_data(ride[0], ride[1], i)['ridership'] \n",
    "                                    for i in G.get_edge_data(ride[0], ride[1]) \n",
    "                                    if G.get_edge_data(ride[0], ride[1], i)['hour'] in valid_hours \n",
    "                                    and G.get_edge_data(ride[0], ride[1], i)['day'] in valid_days])\n",
    "            station_pairs_ridership_list += [(total_ridership, ride)]\n",
    "    # Sorting station pairs by total ridership\n",
    "    ridership_sorted = sorted(station_pairs_ridership_list, reverse=True)\n",
    "    # Getting top 10 busiest station pairs\n",
    "    top_10_ridership = ridership_sorted[:10]\n",
    "    top_10_stations = [(G.nodes[i[1][0]]['name'], G.nodes[i[1][1]]['name']) for i in top_10_ridership]\n",
    "    return top_10_stations"
   ]
  },
  {
   "cell_type": "code",
   "execution_count": 27,
   "id": "567df334",
   "metadata": {},
   "outputs": [
    {
     "data": {
      "text/plain": [
       "[('Grand Central-42 St (S,4,5,6,7)',\n",
       "  'Times Sq-42 St (N,Q,R,W,S,1,2,3,7)/42 St (A,C,E)'),\n",
       " ('Flushing-Main St (7)', '103 St-Corona Plaza (7)'),\n",
       " ('Fulton St (A,C,J,Z,2,3,4,5)', 'Grand Central-42 St (S,4,5,6,7)'),\n",
       " ('Flushing-Main St (7)', 'Junction Blvd (7)'),\n",
       " ('Grand Central-42 St (S,4,5,6,7)', '14 St-Union Sq (L,N,Q,R,W,4,5,6)'),\n",
       " ('Flushing-Main St (7)',\n",
       "  '74-Broadway (7)/Jackson Hts-Roosevelt Av (E,F,M,R)'),\n",
       " ('14 St-Union Sq (L,N,Q,R,W,4,5,6)', 'Grand Central-42 St (S,4,5,6,7)'),\n",
       " ('Junction Blvd (7)', 'Flushing-Main St (7)'),\n",
       " ('Times Sq-42 St (N,Q,R,W,S,1,2,3,7)/42 St (A,C,E)',\n",
       "  'Grand Central-42 St (S,4,5,6,7)'),\n",
       " ('Grand Central-42 St (S,4,5,6,7)', 'Fulton St (A,C,J,Z,2,3,4,5)')]"
      ]
     },
     "execution_count": 27,
     "metadata": {},
     "output_type": "execute_result"
    }
   ],
   "source": [
    "q3a(G)"
   ]
  },
  {
   "cell_type": "code",
   "execution_count": 28,
   "id": "eddcdbdd",
   "metadata": {},
   "outputs": [
    {
     "data": {
      "text/plain": [
       "[('Grand Central-42 St (S,4,5,6,7)',\n",
       "  'Times Sq-42 St (N,Q,R,W,S,1,2,3,7)/42 St (A,C,E)'),\n",
       " ('Flushing-Main St (7)', '103 St-Corona Plaza (7)'),\n",
       " ('Fulton St (A,C,J,Z,2,3,4,5)', 'Grand Central-42 St (S,4,5,6,7)'),\n",
       " ('Flushing-Main St (7)', 'Junction Blvd (7)'),\n",
       " ('Grand Central-42 St (S,4,5,6,7)', '14 St-Union Sq (L,N,Q,R,W,4,5,6)'),\n",
       " ('Flushing-Main St (7)',\n",
       "  '74-Broadway (7)/Jackson Hts-Roosevelt Av (E,F,M,R)'),\n",
       " ('14 St-Union Sq (L,N,Q,R,W,4,5,6)', 'Grand Central-42 St (S,4,5,6,7)'),\n",
       " ('Junction Blvd (7)', 'Flushing-Main St (7)'),\n",
       " ('Times Sq-42 St (N,Q,R,W,S,1,2,3,7)/42 St (A,C,E)',\n",
       "  'Grand Central-42 St (S,4,5,6,7)'),\n",
       " ('Grand Central-42 St (S,4,5,6,7)', 'Fulton St (A,C,J,Z,2,3,4,5)')]"
      ]
     },
     "execution_count": 28,
     "metadata": {},
     "output_type": "execute_result"
    }
   ],
   "source": [
    "q3a(G)"
   ]
  },
  {
   "cell_type": "code",
   "execution_count": 29,
   "id": "a59b8037",
   "metadata": {},
   "outputs": [],
   "source": [
    "# Question 3) b.\n",
    "def q3b(G):\n",
    "    # List of valid hours of the day\n",
    "    valid_hours = np.arange(18, 22)\n",
    "    # List of valid days of the week\n",
    "    valid_days = ['Friday']\n",
    "    # Valid borough\n",
    "    valid_borough = 'Q'\n",
    "    # List of station pairs and their total ridership\n",
    "    station_pairs_ridership_list = []\n",
    "    # Iterate through each station\n",
    "    for station in G.nodes:\n",
    "        # List of all unique ride pairs where station is origin and both stations in borough\n",
    "        origin_rides = set([i for i in G.out_edges(station) \n",
    "                        if G.nodes[i[0]]['borough'] == valid_borough \n",
    "                        and G.nodes[i[1]]['borough'] == valid_borough])\n",
    "        for ride in origin_rides:\n",
    "            total_ridership = sum([G.get_edge_data(ride[0], ride[1], i)['ridership'] \n",
    "                                    for i in G.get_edge_data(ride[0], ride[1]) \n",
    "                                    if G.get_edge_data(ride[0], ride[1], i)['hour'] in valid_hours \n",
    "                                    and G.get_edge_data(ride[0], ride[1], i)['day'] in valid_days])\n",
    "            station_pairs_ridership_list += [(total_ridership, ride)]\n",
    "    # Sorting station pairs by total ridership\n",
    "    ridership_sorted = sorted(station_pairs_ridership_list, reverse=True)\n",
    "    # Getting top 10 busiest station pairs\n",
    "    top_10_ridership = ridership_sorted[:10]\n",
    "    top_10_stations = [(G.nodes[i[1][0]]['name'], G.nodes[i[1][1]]['name']) for i in top_10_ridership]\n",
    "    return top_10_stations"
   ]
  },
  {
   "cell_type": "code",
   "execution_count": 30,
   "id": "437c111c",
   "metadata": {},
   "outputs": [
    {
     "data": {
      "text/plain": [
       "[('Flushing-Main St (7)',\n",
       "  '74-Broadway (7)/Jackson Hts-Roosevelt Av (E,F,M,R)'),\n",
       " ('Flushing-Main St (7)', '103 St-Corona Plaza (7)'),\n",
       " ('Flushing-Main St (7)', 'Junction Blvd (7)'),\n",
       " ('Junction Blvd (7)', 'Flushing-Main St (7)'),\n",
       " ('Flushing-Main St (7)', '90 St-Elmhurst Av (7)'),\n",
       " ('74-Broadway (7)/Jackson Hts-Roosevelt Av (E,F,M,R)',\n",
       "  'Flushing-Main St (7)'),\n",
       " ('103 St-Corona Plaza (7)', 'Flushing-Main St (7)'),\n",
       " ('Flushing-Main St (7)', '111 St (7)'),\n",
       " ('82 St-Jackson Hts (7)', 'Flushing-Main St (7)'),\n",
       " ('74-Broadway (7)/Jackson Hts-Roosevelt Av (E,F,M,R)', 'Jamaica-179 St (F)')]"
      ]
     },
     "execution_count": 30,
     "metadata": {},
     "output_type": "execute_result"
    }
   ],
   "source": [
    "q3b(G)"
   ]
  },
  {
   "cell_type": "code",
   "execution_count": 31,
   "id": "ba88c43f",
   "metadata": {},
   "outputs": [],
   "source": [
    "# Question 3) c.\n",
    "def q3c(G):\n",
    "    # List of valid hours of the day\n",
    "    valid_hours = np.arange(1, 6)\n",
    "    # Valid borough\n",
    "    valid_borough = 'Bk'\n",
    "    # List of station pairs and their total ridership\n",
    "    station_pairs_ridership_list = []\n",
    "    # Iterate through each station\n",
    "    for station in G.nodes:\n",
    "        # List of all unique ride pairs where station is origin and both stations in borough\n",
    "        origin_rides = set([i for i in G.out_edges(station) \n",
    "                        if G.nodes[i[0]]['borough'] == valid_borough \n",
    "                        and G.nodes[i[1]]['borough'] == valid_borough])\n",
    "        for ride in origin_rides:\n",
    "            total_ridership = sum([G.get_edge_data(ride[0], ride[1], i)['ridership'] \n",
    "                                    for i in G.get_edge_data(ride[0], ride[1]) \n",
    "                                    if G.get_edge_data(ride[0], ride[1], i)['hour'] in valid_hours])\n",
    "            station_pairs_ridership_list += [(total_ridership, ride)]\n",
    "    # Sorting station pairs by total ridership\n",
    "    ridership_sorted = sorted(station_pairs_ridership_list, reverse=True)\n",
    "    # Getting top 10 busiest station pairs\n",
    "    top_10_ridership = ridership_sorted[:10]\n",
    "    top_10_stations = [(G.nodes[i[1][0]]['name'], G.nodes[i[1][1]]['name']) for i in top_10_ridership]\n",
    "    return top_10_stations"
   ]
  },
  {
   "cell_type": "code",
   "execution_count": 32,
   "id": "3cba4eb2",
   "metadata": {},
   "outputs": [
    {
     "data": {
      "text/plain": [
       "[('Crown Hts-Utica Av (3,4)', 'Atlantic Av-Barclays Ctr (B,D,N,Q,R,2,3,4,5)'),\n",
       " ('Flatbush Av-Brooklyn College (2,5)',\n",
       "  'Atlantic Av-Barclays Ctr (B,D,N,Q,R,2,3,4,5)'),\n",
       " ('Bedford Av (L)', 'Myrtle-Wyckoff Avs (L,M)'),\n",
       " ('Crown Hts-Utica Av (3,4)', 'Court St (R)/Borough Hall (2,3,4,5)'),\n",
       " ('Myrtle-Wyckoff Avs (L,M)', 'Bedford Av (L)'),\n",
       " ('Crown Hts-Utica Av (3,4)', 'Nevins St (2,3,4,5)'),\n",
       " ('Euclid Av (A,C)', 'Jay St-MetroTech (A,C,F,R)'),\n",
       " ('Atlantic Av-Barclays Ctr (B,D,N,Q,R,2,3,4,5)', '36 St (D,N,R)'),\n",
       " ('Bedford Av (L)', 'DeKalb Av (L)'),\n",
       " ('Lorimer St (L)/Metropolitan Av (G)', 'Myrtle-Wyckoff Avs (L,M)')]"
      ]
     },
     "execution_count": 32,
     "metadata": {},
     "output_type": "execute_result"
    }
   ],
   "source": [
    "q3c(G)"
   ]
  },
  {
   "cell_type": "code",
   "execution_count": 33,
   "id": "40cc2385",
   "metadata": {},
   "outputs": [],
   "source": [
    "# Question 3) d.\n",
    "def q3d(G):\n",
    "    # List of valid hours of the day\n",
    "    valid_hours = np.arange(6, 8)\n",
    "    # List of valid days of the week\n",
    "    valid_days = ['Monday', 'Tuesday', 'Wednesday', 'Thursday']\n",
    "    # Borough where origin station located\n",
    "    origin_borough = 'Bk'\n",
    "    # Borough where destination station located\n",
    "    dest_borough = 'M'\n",
    "    # List of station pairs and their total ridership\n",
    "    station_pairs_ridership_list = []\n",
    "    # Iterate through each station\n",
    "    for station in G.nodes:\n",
    "        # List of all unique ride pairs where station is origin and both stations in borough\n",
    "        origin_rides = set([i for i in G.out_edges(station) \n",
    "                        if G.nodes[i[0]]['borough'] == origin_borough \n",
    "                        and G.nodes[i[1]]['borough'] == dest_borough])\n",
    "        for ride in origin_rides:\n",
    "            total_ridership = sum([G.get_edge_data(ride[0], ride[1], i)['ridership'] \n",
    "                                    for i in G.get_edge_data(ride[0], ride[1]) \n",
    "                                    if G.get_edge_data(ride[0], ride[1], i)['hour'] in valid_hours\n",
    "                                    and G.get_edge_data(ride[0], ride[1], i)['day'] in valid_days])\n",
    "            station_pairs_ridership_list += [(total_ridership, ride)]\n",
    "    # Sorting station pairs by total ridership\n",
    "    ridership_sorted = sorted(station_pairs_ridership_list, reverse=True)\n",
    "    # Getting top 10 busiest station pairs\n",
    "    top_10_ridership = ridership_sorted[:10]\n",
    "    top_10_stations = [(G.nodes[i[1][0]]['name'], G.nodes[i[1][1]]['name']) for i in top_10_ridership]\n",
    "    return top_10_stations"
   ]
  },
  {
   "cell_type": "code",
   "execution_count": 34,
   "id": "f5b65a9a",
   "metadata": {},
   "outputs": [
    {
     "data": {
      "text/plain": [
       "[('Atlantic Av-Barclays Ctr (B,D,N,Q,R,2,3,4,5)', 'Bowling Green (4,5)'),\n",
       " ('Crown Hts-Utica Av (3,4)', 'Grand Central-42 St (S,4,5,6,7)'),\n",
       " ('Kings Hwy (B,Q)', '34 St-Herald Sq (B,D,F,M,N,Q,R,W)'),\n",
       " ('Court St (R)/Borough Hall (2,3,4,5)', 'Grand Central-42 St (S,4,5,6,7)'),\n",
       " ('Flatbush Av-Brooklyn College (2,5)', 'Grand Central-42 St (S,4,5,6,7)'),\n",
       " ('Crown Hts-Utica Av (3,4)', 'Fulton St (A,C,J,Z,2,3,4,5)'),\n",
       " ('Flatbush Av-Brooklyn College (2,5)', 'Fulton St (A,C,J,Z,2,3,4,5)'),\n",
       " ('Bedford Av (L)', 'Grand Central-42 St (S,4,5,6,7)'),\n",
       " ('Kings Hwy (B,Q)', '47-50 Sts-Rockefeller Ctr (B,D,F,M)'),\n",
       " ('Sheepshead Bay (B,Q)', '47-50 Sts-Rockefeller Ctr (B,D,F,M)')]"
      ]
     },
     "execution_count": 34,
     "metadata": {},
     "output_type": "execute_result"
    }
   ],
   "source": [
    "q3d(G)"
   ]
  },
  {
   "cell_type": "code",
   "execution_count": 35,
   "id": "415e0d83",
   "metadata": {},
   "outputs": [],
   "source": [
    "# Question 3) e.\n",
    "def q3e(G):\n",
    "    # List of valid hours of the day\n",
    "    valid_hours = np.arange(6, 8)\n",
    "    # List of valid days of the week\n",
    "    valid_days = ['Monday', 'Tuesday', 'Wednesday', 'Thursday']\n",
    "    # Borough where origin station located\n",
    "    origin_borough = 'Bx'\n",
    "    # Borough where destination station located\n",
    "    dest_borough = 'M'\n",
    "    # List of station pairs and their total ridership\n",
    "    station_pairs_ridership_list = []\n",
    "    # Iterate through each station\n",
    "    for station in G.nodes:\n",
    "        # List of all unique ride pairs where station is origin and both stations in borough\n",
    "        origin_rides = set([i for i in G.out_edges(station) \n",
    "                        if G.nodes[i[0]]['borough'] == origin_borough \n",
    "                        and G.nodes[i[1]]['borough'] == dest_borough])\n",
    "        for ride in origin_rides:\n",
    "            total_ridership = sum([G.get_edge_data(ride[0], ride[1], i)['ridership'] \n",
    "                                    for i in G.get_edge_data(ride[0], ride[1]) \n",
    "                                    if G.get_edge_data(ride[0], ride[1], i)['hour'] in valid_hours\n",
    "                                    and G.get_edge_data(ride[0], ride[1], i)['day'] in valid_days])\n",
    "            station_pairs_ridership_list += [(total_ridership, ride)]\n",
    "    # Sorting station pairs by total ridership\n",
    "    ridership_sorted = sorted(station_pairs_ridership_list, reverse=True)\n",
    "    # Getting top 10 busiest station pairs\n",
    "    top_10_ridership = ridership_sorted[:10]\n",
    "    top_10_stations = [(G.nodes[i[1][0]]['name'], G.nodes[i[1][1]]['name']) for i in top_10_ridership]\n",
    "    return top_10_stations"
   ]
  },
  {
   "cell_type": "code",
   "execution_count": 36,
   "id": "9c82ca6e",
   "metadata": {},
   "outputs": [
    {
     "data": {
      "text/plain": [
       "[('Parkchester (6)', 'Grand Central-42 St (S,4,5,6,7)'),\n",
       " ('Parkchester (6)', '14 St-Union Sq (L,N,Q,R,W,4,5,6)'),\n",
       " ('Parkchester (6)', '125 St (4,5,6)'),\n",
       " ('Parkchester (6)', '68 St-Hunter College (6)'),\n",
       " ('Parkchester (6)', '86 St (4,5,6)'),\n",
       " ('Parkchester (6)', 'Lexington Av-53 St (E,M)/51 St (6)'),\n",
       " ('Parkchester (6)', 'Fulton St (A,C,J,Z,2,3,4,5)'),\n",
       " ('Parkchester (6)', 'Brooklyn Bridge-City Hall (4,5,6)/Chambers St (J,Z)'),\n",
       " ('161 St-Yankee Stadium (B,D,4)', '59 St-Columbus Circle (A,B,C,D,1)'),\n",
       " ('Woodlawn (4)', '86 St (4,5,6)')]"
      ]
     },
     "execution_count": 36,
     "metadata": {},
     "output_type": "execute_result"
    }
   ],
   "source": [
    "q3e(G)"
   ]
  },
  {
   "cell_type": "code",
   "execution_count": 37,
   "id": "31c83db8",
   "metadata": {},
   "outputs": [],
   "source": [
    "# Question 3) f.\n",
    "def q3f(G):\n",
    "    # List of valid hours of the day\n",
    "    valid_hours = np.arange(6, 8)\n",
    "    # List of valid days of the week\n",
    "    valid_days = ['Monday', 'Tuesday', 'Wednesday', 'Thursday']\n",
    "    # Borough where origin station located\n",
    "    origin_borough = 'SI'\n",
    "    # Borough where destination station located\n",
    "    dest_borough = 'M'\n",
    "    # List of station pairs and their total ridership\n",
    "    station_pairs_ridership_list = []\n",
    "    # Iterate through each station\n",
    "    for station in G.nodes:\n",
    "        # List of all unique ride pairs where station is origin and both stations in borough\n",
    "        origin_rides = set([i for i in G.out_edges(station) \n",
    "                        if G.nodes[i[0]]['borough'] == origin_borough \n",
    "                        and G.nodes[i[1]]['borough'] == dest_borough])\n",
    "        for ride in origin_rides:\n",
    "            total_ridership = sum([G.get_edge_data(ride[0], ride[1], i)['ridership'] \n",
    "                                    for i in G.get_edge_data(ride[0], ride[1]) \n",
    "                                    if G.get_edge_data(ride[0], ride[1], i)['hour'] in valid_hours\n",
    "                                    and G.get_edge_data(ride[0], ride[1], i)['day'] in valid_days])\n",
    "            station_pairs_ridership_list += [(total_ridership, ride)]\n",
    "    # Sorting station pairs by total ridership\n",
    "    ridership_sorted = sorted(station_pairs_ridership_list, reverse=True)\n",
    "    # Getting top 10 busiest station pairs\n",
    "    top_10_ridership = ridership_sorted[:10]\n",
    "    top_10_stations = [(G.nodes[i[1][0]]['name'], G.nodes[i[1][1]]['name']) for i in top_10_ridership]\n",
    "    return top_10_stations"
   ]
  },
  {
   "cell_type": "code",
   "execution_count": 38,
   "id": "a8ee836a",
   "metadata": {},
   "outputs": [
    {
     "data": {
      "text/plain": [
       "[]"
      ]
     },
     "execution_count": 38,
     "metadata": {},
     "output_type": "execute_result"
    }
   ],
   "source": [
    "q3f(G)"
   ]
  },
  {
   "cell_type": "code",
   "execution_count": null,
   "id": "d9e71526",
   "metadata": {},
   "outputs": [],
   "source": []
  }
 ],
 "metadata": {
  "kernelspec": {
   "display_name": "Python 3 (ipykernel)",
   "language": "python",
   "name": "python3"
  },
  "language_info": {
   "codemirror_mode": {
    "name": "ipython",
    "version": 3
   },
   "file_extension": ".py",
   "mimetype": "text/x-python",
   "name": "python",
   "nbconvert_exporter": "python",
   "pygments_lexer": "ipython3",
   "version": "3.8.19"
  }
 },
 "nbformat": 4,
 "nbformat_minor": 5
}
