{
 "cells": [
  {
   "cell_type": "code",
   "execution_count": 1,
   "id": "56b9ac10",
   "metadata": {},
   "outputs": [],
   "source": [
    "# Importing packages\n",
    "import pandas as pd\n",
    "import networkx as nx\n",
    "import matplotlib.pyplot as plt\n",
    "import numpy as np"
   ]
  },
  {
   "cell_type": "markdown",
   "id": "94fe6f9c",
   "metadata": {},
   "source": [
    "# MTA Subway Graph Representation and Querying"
   ]
  },
  {
   "cell_type": "markdown",
   "id": "23d2318e",
   "metadata": {},
   "source": [
    "## Data Preprocessing"
   ]
  },
  {
   "cell_type": "markdown",
   "id": "8dc925e9",
   "metadata": {},
   "source": [
    "Replace filename.csv with the name of the MTA rides data you downloaded from the Google Drive link."
   ]
  },
  {
   "cell_type": "code",
   "execution_count": 6,
   "id": "c7cdd3a4",
   "metadata": {},
   "outputs": [],
   "source": [
    "RIDES_FILENAME = \"filename.csv\"\n",
    "RIDES_FILENAME = \"mta_rides.csv\""
   ]
  },
  {
   "cell_type": "markdown",
   "id": "26f5d97d",
   "metadata": {},
   "source": [
    "Load in ride and station data."
   ]
  },
  {
   "cell_type": "code",
   "execution_count": 7,
   "id": "649e104e",
   "metadata": {},
   "outputs": [],
   "source": [
    "rides = pd.read_csv(f'../data/{RIDES_FILENAME}')\n",
    "stations = pd.read_csv('../data/mta_stations.csv')"
   ]
  },
  {
   "cell_type": "markdown",
   "id": "1b17e167",
   "metadata": {},
   "source": [
    "`stations_borough` is a Dataframe with each unique station complex ID and its corresponding borough."
   ]
  },
  {
   "cell_type": "code",
   "execution_count": 16,
   "id": "0a9fd9ba",
   "metadata": {},
   "outputs": [],
   "source": [
    "stations_borough = stations[['Complex ID', 'Borough']]\n",
    "stations_borough = stations_borough.drop_duplicates()\n"
   ]
  },
  {
   "cell_type": "code",
   "execution_count": 17,
   "id": "1af6d2f0",
   "metadata": {},
   "outputs": [
    {
     "data": {
      "text/html": [
       "<div>\n",
       "<style scoped>\n",
       "    .dataframe tbody tr th:only-of-type {\n",
       "        vertical-align: middle;\n",
       "    }\n",
       "\n",
       "    .dataframe tbody tr th {\n",
       "        vertical-align: top;\n",
       "    }\n",
       "\n",
       "    .dataframe thead th {\n",
       "        text-align: right;\n",
       "    }\n",
       "</style>\n",
       "<table border=\"1\" class=\"dataframe\">\n",
       "  <thead>\n",
       "    <tr style=\"text-align: right;\">\n",
       "      <th></th>\n",
       "      <th>Complex ID</th>\n",
       "      <th>Borough</th>\n",
       "    </tr>\n",
       "  </thead>\n",
       "  <tbody>\n",
       "    <tr>\n",
       "      <th>0</th>\n",
       "      <td>1</td>\n",
       "      <td>Q</td>\n",
       "    </tr>\n",
       "    <tr>\n",
       "      <th>1</th>\n",
       "      <td>2</td>\n",
       "      <td>Q</td>\n",
       "    </tr>\n",
       "    <tr>\n",
       "      <th>2</th>\n",
       "      <td>3</td>\n",
       "      <td>Q</td>\n",
       "    </tr>\n",
       "    <tr>\n",
       "      <th>3</th>\n",
       "      <td>4</td>\n",
       "      <td>Q</td>\n",
       "    </tr>\n",
       "    <tr>\n",
       "      <th>4</th>\n",
       "      <td>5</td>\n",
       "      <td>Q</td>\n",
       "    </tr>\n",
       "    <tr>\n",
       "      <th>...</th>\n",
       "      <td>...</td>\n",
       "      <td>...</td>\n",
       "    </tr>\n",
       "    <tr>\n",
       "      <th>491</th>\n",
       "      <td>517</td>\n",
       "      <td>SI</td>\n",
       "    </tr>\n",
       "    <tr>\n",
       "      <th>492</th>\n",
       "      <td>518</td>\n",
       "      <td>SI</td>\n",
       "    </tr>\n",
       "    <tr>\n",
       "      <th>493</th>\n",
       "      <td>519</td>\n",
       "      <td>SI</td>\n",
       "    </tr>\n",
       "    <tr>\n",
       "      <th>494</th>\n",
       "      <td>522</td>\n",
       "      <td>SI</td>\n",
       "    </tr>\n",
       "    <tr>\n",
       "      <th>495</th>\n",
       "      <td>523</td>\n",
       "      <td>SI</td>\n",
       "    </tr>\n",
       "  </tbody>\n",
       "</table>\n",
       "<p>445 rows × 2 columns</p>\n",
       "</div>"
      ],
      "text/plain": [
       "     Complex ID Borough\n",
       "0             1       Q\n",
       "1             2       Q\n",
       "2             3       Q\n",
       "3             4       Q\n",
       "4             5       Q\n",
       "..          ...     ...\n",
       "491         517      SI\n",
       "492         518      SI\n",
       "493         519      SI\n",
       "494         522      SI\n",
       "495         523      SI\n",
       "\n",
       "[445 rows x 2 columns]"
      ]
     },
     "execution_count": 17,
     "metadata": {},
     "output_type": "execute_result"
    }
   ],
   "source": [
    "stations_borough"
   ]
  },
  {
   "cell_type": "markdown",
   "id": "1b77ab72",
   "metadata": {},
   "source": [
    "`rides_complete` is a DataFrame where each row is a unique trip defined by the origin and destination stations. It contains trip information like the day of week, hour of day, origin and desination station complex data (ID and borough), and estimated average ridership.\n",
    "\n",
    "A full description of columns:\n",
    " - `Origin Borough`: borough of origin station (ex. Bk)\n",
    " - `Day of Week`: day of week trip occurs (ex. Monday)\n",
    " - `Hour of Day`: hour of day trip occurs (ex. 1 for 1:00AM, 18 for 6:00PM)\n",
    " - `Origin Station Complex ID`: unique complex ID of origin station (ex. 26)\n",
    " - `Origin Station Complex Name`: name of origin station complex (ex. Grand St (B, D))\n",
    " - `Destination Station Complex ID`: unique complex ID of destination station (ex. 71)\n",
    " - `Destination Station Complex Name`: name of destination sation complex (ex. 8 Av (N))\n",
    " - `Estimated Average Ridership`: average number of people taking this trip (ex. 0.55)\n",
    " - `Destination Borough`: borough of destination station (ex. M)"
   ]
  },
  {
   "cell_type": "code",
   "execution_count": 13,
   "id": "4a2338a5",
   "metadata": {},
   "outputs": [],
   "source": [
    "origin_borough_rides = pd.merge(stations_borough, rides, left_on='Complex ID', right_on='Origin Station Complex ID', how='right')\n",
    "rides_complete = origin_borough_rides.rename(columns={'Borough':'Origin Borough'})\n",
    "rides_complete = pd.merge(rides_complete, stations_borough, left_on='Destination Station Complex ID', right_on='Complex ID', how='left')\n",
    "rides_complete = rides_complete.rename(columns={'Borough': 'Destination Borough'})\n",
    "rides_complete = rides_complete.drop(columns = ['Complex ID_x', 'Complex ID_y', 'Year', 'Month', 'Timestamp', 'Origin Latitude', 'Origin Longitude', 'Destination Latitude', 'Destination Longitude', 'Origin Point', 'Destination Point'])"
   ]
  },
  {
   "cell_type": "code",
   "execution_count": 14,
   "id": "0fbe23b1",
   "metadata": {},
   "outputs": [
    {
     "data": {
      "text/html": [
       "<div>\n",
       "<style scoped>\n",
       "    .dataframe tbody tr th:only-of-type {\n",
       "        vertical-align: middle;\n",
       "    }\n",
       "\n",
       "    .dataframe tbody tr th {\n",
       "        vertical-align: top;\n",
       "    }\n",
       "\n",
       "    .dataframe thead th {\n",
       "        text-align: right;\n",
       "    }\n",
       "</style>\n",
       "<table border=\"1\" class=\"dataframe\">\n",
       "  <thead>\n",
       "    <tr style=\"text-align: right;\">\n",
       "      <th></th>\n",
       "      <th>Origin Borough</th>\n",
       "      <th>Day of Week</th>\n",
       "      <th>Hour of Day</th>\n",
       "      <th>Origin Station Complex ID</th>\n",
       "      <th>Origin Station Complex Name</th>\n",
       "      <th>Destination Station Complex ID</th>\n",
       "      <th>Destination Station Complex Name</th>\n",
       "      <th>Estimated Average Ridership</th>\n",
       "      <th>Destination Borough</th>\n",
       "    </tr>\n",
       "  </thead>\n",
       "  <tbody>\n",
       "    <tr>\n",
       "      <th>0</th>\n",
       "      <td>Bk</td>\n",
       "      <td>Monday</td>\n",
       "      <td>1</td>\n",
       "      <td>26</td>\n",
       "      <td>DeKalb Av (B,Q,R)</td>\n",
       "      <td>355</td>\n",
       "      <td>Winthrop St (2,5)</td>\n",
       "      <td>0.5556</td>\n",
       "      <td>Bk</td>\n",
       "    </tr>\n",
       "    <tr>\n",
       "      <th>1</th>\n",
       "      <td>M</td>\n",
       "      <td>Monday</td>\n",
       "      <td>1</td>\n",
       "      <td>231</td>\n",
       "      <td>Grand St (B,D)</td>\n",
       "      <td>284</td>\n",
       "      <td>Nassau Av (G)</td>\n",
       "      <td>0.3068</td>\n",
       "      <td>Bk</td>\n",
       "    </tr>\n",
       "    <tr>\n",
       "      <th>2</th>\n",
       "      <td>M</td>\n",
       "      <td>Monday</td>\n",
       "      <td>1</td>\n",
       "      <td>313</td>\n",
       "      <td>72 St (1,2,3)</td>\n",
       "      <td>71</td>\n",
       "      <td>8 Av (N)</td>\n",
       "      <td>0.3012</td>\n",
       "      <td>Bk</td>\n",
       "    </tr>\n",
       "    <tr>\n",
       "      <th>3</th>\n",
       "      <td>M</td>\n",
       "      <td>Monday</td>\n",
       "      <td>1</td>\n",
       "      <td>320</td>\n",
       "      <td>23 St (1)</td>\n",
       "      <td>309</td>\n",
       "      <td>103 St (1)</td>\n",
       "      <td>0.9000</td>\n",
       "      <td>M</td>\n",
       "    </tr>\n",
       "    <tr>\n",
       "      <th>4</th>\n",
       "      <td>M</td>\n",
       "      <td>Monday</td>\n",
       "      <td>1</td>\n",
       "      <td>399</td>\n",
       "      <td>68 St-Hunter College (6)</td>\n",
       "      <td>618</td>\n",
       "      <td>14 St (A,C,E)/8 Av (L)</td>\n",
       "      <td>0.2940</td>\n",
       "      <td>M</td>\n",
       "    </tr>\n",
       "    <tr>\n",
       "      <th>...</th>\n",
       "      <td>...</td>\n",
       "      <td>...</td>\n",
       "      <td>...</td>\n",
       "      <td>...</td>\n",
       "      <td>...</td>\n",
       "      <td>...</td>\n",
       "      <td>...</td>\n",
       "      <td>...</td>\n",
       "      <td>...</td>\n",
       "    </tr>\n",
       "    <tr>\n",
       "      <th>9169120</th>\n",
       "      <td>Bx</td>\n",
       "      <td>Sunday</td>\n",
       "      <td>12</td>\n",
       "      <td>426</td>\n",
       "      <td>E 180 St (2,5)</td>\n",
       "      <td>379</td>\n",
       "      <td>Mosholu Pkwy (4)</td>\n",
       "      <td>0.3322</td>\n",
       "      <td>Bx</td>\n",
       "    </tr>\n",
       "    <tr>\n",
       "      <th>9169121</th>\n",
       "      <td>Bx</td>\n",
       "      <td>Sunday</td>\n",
       "      <td>12</td>\n",
       "      <td>427</td>\n",
       "      <td>West Farms Sq-E Tremont Av (2,5)</td>\n",
       "      <td>613</td>\n",
       "      <td>Lexington Av (N,R,W)/59 St (4,5,6)</td>\n",
       "      <td>0.7305</td>\n",
       "      <td>M</td>\n",
       "    </tr>\n",
       "    <tr>\n",
       "      <th>9169122</th>\n",
       "      <td>Bk</td>\n",
       "      <td>Sunday</td>\n",
       "      <td>12</td>\n",
       "      <td>32</td>\n",
       "      <td>36 St (D,N,R)</td>\n",
       "      <td>263</td>\n",
       "      <td>63 Dr-Rego Park (M,R)</td>\n",
       "      <td>0.3130</td>\n",
       "      <td>Q</td>\n",
       "    </tr>\n",
       "    <tr>\n",
       "      <th>9169123</th>\n",
       "      <td>M</td>\n",
       "      <td>Sunday</td>\n",
       "      <td>12</td>\n",
       "      <td>324</td>\n",
       "      <td>Houston St (1)</td>\n",
       "      <td>407</td>\n",
       "      <td>Astor Pl (6)</td>\n",
       "      <td>0.8602</td>\n",
       "      <td>M</td>\n",
       "    </tr>\n",
       "    <tr>\n",
       "      <th>9169124</th>\n",
       "      <td>Q</td>\n",
       "      <td>Sunday</td>\n",
       "      <td>12</td>\n",
       "      <td>606</td>\n",
       "      <td>Court Sq (E,G,M,7)</td>\n",
       "      <td>145</td>\n",
       "      <td>190 St (A)</td>\n",
       "      <td>0.9110</td>\n",
       "      <td>M</td>\n",
       "    </tr>\n",
       "  </tbody>\n",
       "</table>\n",
       "<p>9169125 rows × 9 columns</p>\n",
       "</div>"
      ],
      "text/plain": [
       "        Origin Borough Day of Week  Hour of Day  Origin Station Complex ID  \\\n",
       "0                   Bk      Monday            1                         26   \n",
       "1                    M      Monday            1                        231   \n",
       "2                    M      Monday            1                        313   \n",
       "3                    M      Monday            1                        320   \n",
       "4                    M      Monday            1                        399   \n",
       "...                ...         ...          ...                        ...   \n",
       "9169120             Bx      Sunday           12                        426   \n",
       "9169121             Bx      Sunday           12                        427   \n",
       "9169122             Bk      Sunday           12                         32   \n",
       "9169123              M      Sunday           12                        324   \n",
       "9169124              Q      Sunday           12                        606   \n",
       "\n",
       "              Origin Station Complex Name  Destination Station Complex ID  \\\n",
       "0                       DeKalb Av (B,Q,R)                             355   \n",
       "1                          Grand St (B,D)                             284   \n",
       "2                           72 St (1,2,3)                              71   \n",
       "3                               23 St (1)                             309   \n",
       "4                68 St-Hunter College (6)                             618   \n",
       "...                                   ...                             ...   \n",
       "9169120                    E 180 St (2,5)                             379   \n",
       "9169121  West Farms Sq-E Tremont Av (2,5)                             613   \n",
       "9169122                     36 St (D,N,R)                             263   \n",
       "9169123                    Houston St (1)                             407   \n",
       "9169124                Court Sq (E,G,M,7)                             145   \n",
       "\n",
       "           Destination Station Complex Name  Estimated Average Ridership  \\\n",
       "0                         Winthrop St (2,5)                       0.5556   \n",
       "1                             Nassau Av (G)                       0.3068   \n",
       "2                                  8 Av (N)                       0.3012   \n",
       "3                                103 St (1)                       0.9000   \n",
       "4                    14 St (A,C,E)/8 Av (L)                       0.2940   \n",
       "...                                     ...                          ...   \n",
       "9169120                    Mosholu Pkwy (4)                       0.3322   \n",
       "9169121  Lexington Av (N,R,W)/59 St (4,5,6)                       0.7305   \n",
       "9169122               63 Dr-Rego Park (M,R)                       0.3130   \n",
       "9169123                        Astor Pl (6)                       0.8602   \n",
       "9169124                          190 St (A)                       0.9110   \n",
       "\n",
       "        Destination Borough  \n",
       "0                        Bk  \n",
       "1                        Bk  \n",
       "2                        Bk  \n",
       "3                         M  \n",
       "4                         M  \n",
       "...                     ...  \n",
       "9169120                  Bx  \n",
       "9169121                   M  \n",
       "9169122                   Q  \n",
       "9169123                   M  \n",
       "9169124                   M  \n",
       "\n",
       "[9169125 rows x 9 columns]"
      ]
     },
     "execution_count": 14,
     "metadata": {},
     "output_type": "execute_result"
    }
   ],
   "source": [
    "rides_complete"
   ]
  },
  {
   "cell_type": "markdown",
   "id": "102a6ab9",
   "metadata": {},
   "source": [
    "## Graph Representation"
   ]
  },
  {
   "cell_type": "markdown",
   "id": "b5c4bef2",
   "metadata": {},
   "source": [
    "Initialize a directed multi-edge graph."
   ]
  },
  {
   "cell_type": "code",
   "execution_count": 15,
   "id": "e462d9c9",
   "metadata": {},
   "outputs": [],
   "source": [
    "G = nx.MultiDiGraph()"
   ]
  },
  {
   "cell_type": "markdown",
   "id": "bc01f30b",
   "metadata": {},
   "source": [
    "Initialize station nodes, each with the following features:\n",
    " - `id`: unique ID of node based on station complex ID\n",
    " - `name`: name of station complex\n",
    " - `borough`: borough station is located in"
   ]
  },
  {
   "cell_type": "code",
   "execution_count": 18,
   "id": "9f5b7385",
   "metadata": {},
   "outputs": [],
   "source": [
    "for i, j, k in zip(rides_complete['Origin Station Complex ID'], rides_complete['Origin Station Complex Name'], rides_complete['Origin Borough']):\n",
    "    G.add_node(i, name=j, borough=k)\n",
    "\n",
    "for i, j, k in zip(rides_complete['Destination Station Complex ID'], rides_complete['Destination Station Complex Name'], rides_complete['Destination Borough']):\n",
    "    G.add_node(i, name=j, borough=k)"
   ]
  },
  {
   "cell_type": "markdown",
   "id": "e4aff066",
   "metadata": {},
   "source": [
    "Initialize ride edges between stations, each with the following features:\n",
    " - `ridership`: estimated ridership by average number of people\n",
    " - `day`: day of week\n",
    " - `hour`: hour or day"
   ]
  },
  {
   "cell_type": "code",
   "execution_count": 19,
   "id": "7955444d",
   "metadata": {},
   "outputs": [],
   "source": [
    "origin = list(rides_complete['Origin Station Complex ID'])\n",
    "dest = list(rides_complete['Destination Station Complex ID'])\n",
    "ridership = list(rides_complete['Estimated Average Ridership'])\n",
    "dow = list(rides_complete['Day of Week'])\n",
    "hod = list(rides_complete['Hour of Day'])\n",
    "\n",
    "for i, j, k, l, m in zip(origin, dest, ridership, dow, hod):\n",
    "    G.add_edge(i, j, ridership=k, day=l, hour=m)"
   ]
  },
  {
   "cell_type": "markdown",
   "id": "bd3d7e19",
   "metadata": {},
   "source": [
    "## Querying"
   ]
  },
  {
   "cell_type": "markdown",
   "id": "dbf8de80",
   "metadata": {},
   "source": [
    "### Question 1"
   ]
  },
  {
   "cell_type": "markdown",
   "id": "1ac96179",
   "metadata": {},
   "source": [
    "#### Part (a)\n",
    "\n",
    "whatever tf the query is"
   ]
  },
  {
   "cell_type": "code",
   "execution_count": 6,
   "id": "7f4cef1c",
   "metadata": {},
   "outputs": [],
   "source": [
    "# Question 1) a.\n",
    "def q1a(G):\n",
    "# Finding list of all boroughs\n",
    "    borough_list = set([i[1]['borough'] for i in G.nodes(data=True)])\n",
    "    # List of most busy origin stations in each borough\n",
    "    borough_top = []\n",
    "    # Iterating through each borough\n",
    "    for borough in borough_list:\n",
    "        # List of all stations in borough\n",
    "        stations_id = [node for node in G.nodes if G.nodes[node]['borough'] == borough]\n",
    "        # List of stations and their total ridership\n",
    "        station_ridership_list = []\n",
    "        # Iterating through each station\n",
    "        for station in stations_id:\n",
    "            # List of all unique ride pairs where station is origin\n",
    "            origin_rides = set([i for i in G.out_edges(station)])\n",
    "            # Total ridership of station\n",
    "            total_ridership = 0\n",
    "            # Iterating through each unique ride pair of stations\n",
    "            for ride in origin_rides:\n",
    "                total_ridership += sum([G.get_edge_data(ride[0], ride[1], i)['ridership'] for i in G.get_edge_data(ride[0], ride[1])])\n",
    "            station_ridership_list += [(total_ridership, station)]\n",
    "        # Sorting stations by total ridership\n",
    "        ridership_sorted = sorted(station_ridership_list, reverse=True)\n",
    "        # Getting top 5 busiest stations\n",
    "        top_5_ridership = ridership_sorted[:5]\n",
    "        borough_top += [(borough, [G.nodes[i[1]]['name'] for i in top_5_ridership])]\n",
    "    return borough_top"
   ]
  },
  {
   "cell_type": "code",
   "execution_count": 7,
   "id": "e4a0bd9a",
   "metadata": {},
   "outputs": [
    {
     "data": {
      "text/plain": [
       "[('M',\n",
       "  ['Times Sq-42 St (N,Q,R,W,S,1,2,3,7)/42 St (A,C,E)',\n",
       "   'Grand Central-42 St (S,4,5,6,7)',\n",
       "   '34 St-Herald Sq (B,D,F,M,N,Q,R,W)',\n",
       "   '14 St-Union Sq (L,N,Q,R,W,4,5,6)',\n",
       "   '34 St-Penn Station (A,C,E)']),\n",
       " ('Bk',\n",
       "  ['Atlantic Av-Barclays Ctr (B,D,N,Q,R,2,3,4,5)',\n",
       "   'Bedford Av (L)',\n",
       "   'Jay St-MetroTech (A,C,F,R)',\n",
       "   'Court St (R)/Borough Hall (2,3,4,5)',\n",
       "   'Crown Hts-Utica Av (3,4)']),\n",
       " ('Bx',\n",
       "  ['161 St-Yankee Stadium (B,D,4)',\n",
       "   '3 Av-149 St (2,5)',\n",
       "   'Parkchester (6)',\n",
       "   'Fordham Rd (4)',\n",
       "   'Hunts Point Av (6)']),\n",
       " ('Q',\n",
       "  ['74-Broadway (7)/Jackson Hts-Roosevelt Av (E,F,M,R)',\n",
       "   'Flushing-Main St (7)',\n",
       "   '103 St-Corona Plaza (7)',\n",
       "   'Sutphin Blvd-Archer Av-JFK Airport (E,J,Z)',\n",
       "   'Junction Blvd (7)'])]"
      ]
     },
     "execution_count": 7,
     "metadata": {},
     "output_type": "execute_result"
    }
   ],
   "source": [
    "q1a(G)"
   ]
  },
  {
   "cell_type": "code",
   "execution_count": 8,
   "id": "f11519d5",
   "metadata": {},
   "outputs": [],
   "source": [
    "# Question 1) b.\n",
    "def q1b(G):\n",
    "    # List of valid days of the week\n",
    "    valid_days = ['Monday', 'Tuesday', 'Wednesday']\n",
    "    # List of stations and their total ridership\n",
    "    station_ridership_list = []\n",
    "    # Iterate through each station\n",
    "    for station in G.nodes:\n",
    "        # List of all unique ride pairs where station is origin\n",
    "        origin_rides = set([i for i in G.out_edges(station)])\n",
    "        # Total ridership of station\n",
    "        total_ridership = 0\n",
    "        for ride in origin_rides:\n",
    "            # Adding ridership from valid days of the week\n",
    "            total_ridership += sum([G.get_edge_data(ride[0], ride[1], i)['ridership'] \n",
    "                                    for i in G.get_edge_data(ride[0], ride[1]) \n",
    "                                    if G.get_edge_data(ride[0], ride[1], i)['day'] in valid_days])\n",
    "        station_ridership_list += [(total_ridership, station)]\n",
    "    # Sorting stations by total ridership\n",
    "    ridership_sorted = sorted(station_ridership_list, reverse=True)\n",
    "    # Getting top 5 busiest stations\n",
    "    top_5_ridership = ridership_sorted[:5]\n",
    "    top_5_stations = [G.nodes[i[1]]['name'] for i in top_5_ridership]\n",
    "    return top_5_stations"
   ]
  },
  {
   "cell_type": "code",
   "execution_count": 9,
   "id": "31a50801",
   "metadata": {},
   "outputs": [
    {
     "data": {
      "text/plain": [
       "['Times Sq-42 St (N,Q,R,W,S,1,2,3,7)/42 St (A,C,E)',\n",
       " 'Grand Central-42 St (S,4,5,6,7)',\n",
       " '34 St-Herald Sq (B,D,F,M,N,Q,R,W)',\n",
       " '14 St-Union Sq (L,N,Q,R,W,4,5,6)',\n",
       " 'Fulton St (A,C,J,Z,2,3,4,5)']"
      ]
     },
     "execution_count": 9,
     "metadata": {},
     "output_type": "execute_result"
    }
   ],
   "source": [
    "q1b(G)"
   ]
  },
  {
   "cell_type": "code",
   "execution_count": 10,
   "id": "c932e1db",
   "metadata": {},
   "outputs": [],
   "source": [
    "# Question 1) c.\n",
    "def q1c(G):\n",
    "    # List of valid days of the week\n",
    "    valid_days = ['Saturday', 'Sunday']\n",
    "    # List of stations and their total ridership\n",
    "    station_ridership_list = []\n",
    "    # Iterate through each station\n",
    "    for station in G.nodes:\n",
    "        # List of all unique ride pairs where station is origin\n",
    "        origin_rides = set([i for i in G.out_edges(station)])\n",
    "        # Total ridership of station\n",
    "        total_ridership = 0\n",
    "        for ride in origin_rides:\n",
    "            # Adding ridership from valid days of the week\n",
    "            total_ridership += sum([G.get_edge_data(ride[0], ride[1], i)['ridership'] \n",
    "                                    for i in G.get_edge_data(ride[0], ride[1]) \n",
    "                                    if G.get_edge_data(ride[0], ride[1], i)['day'] in valid_days])\n",
    "        station_ridership_list += [(total_ridership, station)]\n",
    "    # Sorting stations by total ridership\n",
    "    ridership_sorted = sorted(station_ridership_list, reverse=True)\n",
    "    # Getting top 5 busiest stations\n",
    "    top_5_ridership = ridership_sorted[:5]\n",
    "    top_5_stations = [G.nodes[i[1]]['name'] for i in top_5_ridership]\n",
    "    return top_5_stations"
   ]
  },
  {
   "cell_type": "code",
   "execution_count": 11,
   "id": "7e7a7c1a",
   "metadata": {},
   "outputs": [
    {
     "data": {
      "text/plain": [
       "['Times Sq-42 St (N,Q,R,W,S,1,2,3,7)/42 St (A,C,E)',\n",
       " '34 St-Herald Sq (B,D,F,M,N,Q,R,W)',\n",
       " 'Grand Central-42 St (S,4,5,6,7)',\n",
       " '14 St-Union Sq (L,N,Q,R,W,4,5,6)',\n",
       " '34 St-Penn Station (A,C,E)']"
      ]
     },
     "execution_count": 11,
     "metadata": {},
     "output_type": "execute_result"
    }
   ],
   "source": [
    "q1c(G)"
   ]
  },
  {
   "cell_type": "code",
   "execution_count": 12,
   "id": "4be63fa5",
   "metadata": {},
   "outputs": [],
   "source": [
    "# Question 1) d.\n",
    "def q1d(G):\n",
    "    # List of valid hours of the day\n",
    "    valid_hours = np.arange(1, 6)\n",
    "    # List of stations and their total ridership\n",
    "    station_ridership_list = []\n",
    "    # Iterate through each station\n",
    "    for station in G.nodes:\n",
    "        # List of all unique ride pairs where station is origin\n",
    "        origin_rides = set([i for i in G.out_edges(station)])\n",
    "        # Total ridership of station\n",
    "        total_ridership = 0\n",
    "        for ride in origin_rides:\n",
    "            # Adding ridership from valid hours of the day\n",
    "            total_ridership += sum([G.get_edge_data(ride[0], ride[1], i)['ridership'] \n",
    "                                    for i in G.get_edge_data(ride[0], ride[1]) \n",
    "                                    if G.get_edge_data(ride[0], ride[1], i)['hour'] in valid_hours])\n",
    "        station_ridership_list += [(total_ridership, station)]\n",
    "    # Sorting stations by total ridership\n",
    "    ridership_sorted = sorted(station_ridership_list, reverse=True)\n",
    "    # Getting top 5 busiest stations\n",
    "    top_5_ridership = ridership_sorted[:5]\n",
    "    top_5_stations = [G.nodes[i[1]]['name'] for i in top_5_ridership]\n",
    "    return top_5_stations"
   ]
  },
  {
   "cell_type": "code",
   "execution_count": 13,
   "id": "9fd9aa3c",
   "metadata": {},
   "outputs": [
    {
     "data": {
      "text/plain": [
       "['Times Sq-42 St (N,Q,R,W,S,1,2,3,7)/42 St (A,C,E)',\n",
       " '74-Broadway (7)/Jackson Hts-Roosevelt Av (E,F,M,R)',\n",
       " 'Flushing-Main St (7)',\n",
       " '103 St-Corona Plaza (7)',\n",
       " 'Jamaica Center-Parsons/Archer (E,J,Z)']"
      ]
     },
     "execution_count": 13,
     "metadata": {},
     "output_type": "execute_result"
    }
   ],
   "source": [
    "q1d(G)"
   ]
  },
  {
   "cell_type": "code",
   "execution_count": 14,
   "id": "2d83437f",
   "metadata": {},
   "outputs": [],
   "source": [
    "# Question 1) e.\n",
    "def q1e(G):\n",
    "    # List of valid hours of the day\n",
    "    valid_hours = np.arange(6, 10)\n",
    "    # List of stations and their total ridership\n",
    "    station_ridership_list = []\n",
    "    # Iterate through each station\n",
    "    for station in G.nodes:\n",
    "        # List of all unique ride pairs where station is origin\n",
    "        origin_rides = set([i for i in G.out_edges(station)])\n",
    "        # Total ridership of station\n",
    "        total_ridership = 0\n",
    "        for ride in origin_rides:\n",
    "            # Adding ridership from valid hours of the day\n",
    "            total_ridership += sum([G.get_edge_data(ride[0], ride[1], i)['ridership'] \n",
    "                                    for i in G.get_edge_data(ride[0], ride[1]) \n",
    "                                    if G.get_edge_data(ride[0], ride[1], i)['hour'] in valid_hours])\n",
    "        station_ridership_list += [(total_ridership, station)]\n",
    "    # Sorting stations by total ridership\n",
    "    ridership_sorted = sorted(station_ridership_list, reverse=True)\n",
    "    # Getting top 5 busiest stations\n",
    "    top_5_ridership = ridership_sorted[:5]\n",
    "    top_5_stations = [G.nodes[i[1]]['name'] for i in top_5_ridership]\n",
    "    return top_5_stations"
   ]
  },
  {
   "cell_type": "code",
   "execution_count": 15,
   "id": "48444379",
   "metadata": {},
   "outputs": [
    {
     "data": {
      "text/plain": [
       "['Times Sq-42 St (N,Q,R,W,S,1,2,3,7)/42 St (A,C,E)',\n",
       " 'Grand Central-42 St (S,4,5,6,7)',\n",
       " '74-Broadway (7)/Jackson Hts-Roosevelt Av (E,F,M,R)',\n",
       " '34 St-Penn Station (1,2,3)',\n",
       " 'Flushing-Main St (7)']"
      ]
     },
     "execution_count": 15,
     "metadata": {},
     "output_type": "execute_result"
    }
   ],
   "source": [
    "q1e(G)"
   ]
  },
  {
   "cell_type": "markdown",
   "id": "71715f36",
   "metadata": {},
   "source": [
    "### Question 2"
   ]
  },
  {
   "cell_type": "code",
   "execution_count": 16,
   "id": "893f42d0",
   "metadata": {},
   "outputs": [],
   "source": [
    "# Question 2) a.\n",
    "def q2a(G):\n",
    "# Finding list of all boroughs\n",
    "    borough_list = set([i[1]['borough'] for i in G.nodes(data=True)])\n",
    "    # List of most busy origin stations in each borough\n",
    "    borough_top = []\n",
    "    # Iterating through each borough\n",
    "    for borough in borough_list:\n",
    "        # List of all stations in borough\n",
    "        stations_id = [node for node in G.nodes if G.nodes[node]['borough'] == borough]\n",
    "        # List of stations and their total ridership\n",
    "        station_ridership_list = []\n",
    "        # Iterating through each station\n",
    "        for station in stations_id:\n",
    "            # List of all unique ride pairs where station is destination\n",
    "            dest_rides = set([i for i in G.in_edges(station)])\n",
    "            # Total ridership of station\n",
    "            total_ridership = 0\n",
    "            # Iterating through each unique ride pair of stations\n",
    "            for ride in dest_rides:\n",
    "                total_ridership += sum([G.get_edge_data(ride[0], ride[1], i)['ridership'] \n",
    "                                        for i in G.get_edge_data(ride[0], ride[1])])\n",
    "            station_ridership_list += [(total_ridership, station)]\n",
    "        # Sorting stations by total ridership\n",
    "        ridership_sorted = sorted(station_ridership_list, reverse=True)\n",
    "        # Getting top 5 busiest stations\n",
    "        top_5_ridership = ridership_sorted[:5]\n",
    "        borough_top += [(borough, [G.nodes[i[1]]['name'] for i in top_5_ridership])]\n",
    "    return borough_top"
   ]
  },
  {
   "cell_type": "code",
   "execution_count": 17,
   "id": "ebb29a71",
   "metadata": {},
   "outputs": [
    {
     "data": {
      "text/plain": [
       "[('M',\n",
       "  ['Times Sq-42 St (N,Q,R,W,S,1,2,3,7)/42 St (A,C,E)',\n",
       "   'Grand Central-42 St (S,4,5,6,7)',\n",
       "   '34 St-Herald Sq (B,D,F,M,N,Q,R,W)',\n",
       "   '14 St-Union Sq (L,N,Q,R,W,4,5,6)',\n",
       "   'Fulton St (A,C,J,Z,2,3,4,5)']),\n",
       " ('Bk',\n",
       "  ['Atlantic Av-Barclays Ctr (B,D,N,Q,R,2,3,4,5)',\n",
       "   'Bedford Av (L)',\n",
       "   'Jay St-MetroTech (A,C,F,R)',\n",
       "   'Court St (R)/Borough Hall (2,3,4,5)',\n",
       "   'Crown Hts-Utica Av (3,4)']),\n",
       " ('Bx',\n",
       "  ['161 St-Yankee Stadium (B,D,4)',\n",
       "   '3 Av-149 St (2,5)',\n",
       "   'Parkchester (6)',\n",
       "   '149 St-Grand Concourse (2,4,5)',\n",
       "   'Fordham Rd (4)']),\n",
       " ('Q',\n",
       "  ['74-Broadway (7)/Jackson Hts-Roosevelt Av (E,F,M,R)',\n",
       "   'Flushing-Main St (7)',\n",
       "   'Court Sq (E,G,M,7)',\n",
       "   '103 St-Corona Plaza (7)',\n",
       "   'Junction Blvd (7)'])]"
      ]
     },
     "execution_count": 17,
     "metadata": {},
     "output_type": "execute_result"
    }
   ],
   "source": [
    "q2a(G)"
   ]
  },
  {
   "cell_type": "code",
   "execution_count": 18,
   "id": "6688be39",
   "metadata": {},
   "outputs": [],
   "source": [
    "# Question 2) b.\n",
    "def q2b(G):\n",
    "    # List of valid days of the week\n",
    "    valid_days = ['Thursday', 'Friday']\n",
    "    # List of stations and their total ridership\n",
    "    station_ridership_list = []\n",
    "    # Iterate through each station\n",
    "    for station in G.nodes:\n",
    "        # List of all unique ride pairs where station is destination\n",
    "        dest_rides = set([i for i in G.in_edges(station)])\n",
    "        # Total ridership of station\n",
    "        total_ridership = 0\n",
    "        for ride in dest_rides:\n",
    "            # Adding ridership from valid days of the week\n",
    "            total_ridership += sum([G.get_edge_data(ride[0], ride[1], i)['ridership'] \n",
    "                                    for i in G.get_edge_data(ride[0], ride[1]) \n",
    "                                    if G.get_edge_data(ride[0], ride[1], i)['day'] in valid_days])\n",
    "        station_ridership_list += [(total_ridership, station)]\n",
    "    # Sorting stations by total ridership\n",
    "    ridership_sorted = sorted(station_ridership_list, reverse=True)\n",
    "    # Getting top 5 busiest stations\n",
    "    top_5_ridership = ridership_sorted[:5]\n",
    "    top_5_stations = [G.nodes[i[1]]['name'] for i in top_5_ridership]\n",
    "    return top_5_stations"
   ]
  },
  {
   "cell_type": "code",
   "execution_count": 19,
   "id": "2caa83d1",
   "metadata": {},
   "outputs": [
    {
     "data": {
      "text/plain": [
       "['Times Sq-42 St (N,Q,R,W,S,1,2,3,7)/42 St (A,C,E)',\n",
       " 'Grand Central-42 St (S,4,5,6,7)',\n",
       " '34 St-Herald Sq (B,D,F,M,N,Q,R,W)',\n",
       " '14 St-Union Sq (L,N,Q,R,W,4,5,6)',\n",
       " 'Fulton St (A,C,J,Z,2,3,4,5)']"
      ]
     },
     "execution_count": 19,
     "metadata": {},
     "output_type": "execute_result"
    }
   ],
   "source": [
    "q2b(G)"
   ]
  },
  {
   "cell_type": "code",
   "execution_count": 20,
   "id": "93e8cba9",
   "metadata": {},
   "outputs": [],
   "source": [
    "# Question 2) c.\n",
    "def q2c(G):\n",
    "    # List of valid days of the week\n",
    "    valid_days = ['Saturday']\n",
    "    # List of stations and their total ridership\n",
    "    station_ridership_list = []\n",
    "    # Iterate through each station\n",
    "    for station in G.nodes:\n",
    "        # List of all unique ride pairs where station is destination\n",
    "        dest_rides = set([i for i in G.in_edges(station)])\n",
    "        # Total ridership of station\n",
    "        total_ridership = 0\n",
    "        for ride in dest_rides:\n",
    "            # Adding ridership from valid days of the week\n",
    "            total_ridership += sum([G.get_edge_data(ride[0], ride[1], i)['ridership'] \n",
    "                                    for i in G.get_edge_data(ride[0], ride[1]) \n",
    "                                    if G.get_edge_data(ride[0], ride[1], i)['day'] in valid_days])\n",
    "        station_ridership_list += [(total_ridership, station)]\n",
    "    # Sorting stations by total ridership\n",
    "    ridership_sorted = sorted(station_ridership_list, reverse=True)\n",
    "    # Getting top 5 busiest stations\n",
    "    top_5_ridership = ridership_sorted[:5]\n",
    "    top_5_stations = [G.nodes[i[1]]['name'] for i in top_5_ridership]\n",
    "    return top_5_stations"
   ]
  },
  {
   "cell_type": "code",
   "execution_count": 21,
   "id": "f51ff7cf",
   "metadata": {},
   "outputs": [
    {
     "data": {
      "text/plain": [
       "['Times Sq-42 St (N,Q,R,W,S,1,2,3,7)/42 St (A,C,E)',\n",
       " '34 St-Herald Sq (B,D,F,M,N,Q,R,W)',\n",
       " '14 St-Union Sq (L,N,Q,R,W,4,5,6)',\n",
       " 'Grand Central-42 St (S,4,5,6,7)',\n",
       " '34 St-Penn Station (A,C,E)']"
      ]
     },
     "execution_count": 21,
     "metadata": {},
     "output_type": "execute_result"
    }
   ],
   "source": [
    "q2c(G)"
   ]
  },
  {
   "cell_type": "code",
   "execution_count": 22,
   "id": "c358e6e9",
   "metadata": {},
   "outputs": [],
   "source": [
    "# Question 2) d.\n",
    "def q2d(G):\n",
    "    # List of valid hours of the day\n",
    "    valid_hours = np.arange(0, 6)\n",
    "    # List of stations and their total ridership\n",
    "    station_ridership_list = []\n",
    "    # Iterate through each station\n",
    "    for station in G.nodes:\n",
    "        # List of all unique ride pairs where station is destination\n",
    "        dest_rides = set([i for i in G.in_edges(station)])\n",
    "        # Total ridership of station\n",
    "        total_ridership = 0\n",
    "        for ride in dest_rides:\n",
    "            # Adding ridership from valid hours of the day\n",
    "            total_ridership += sum([G.get_edge_data(ride[0], ride[1], i)['ridership'] \n",
    "                                    for i in G.get_edge_data(ride[0], ride[1]) \n",
    "                                    if G.get_edge_data(ride[0], ride[1], i)['hour'] in valid_hours])\n",
    "        station_ridership_list += [(total_ridership, station)]\n",
    "    # Sorting stations by total ridership\n",
    "    ridership_sorted = sorted(station_ridership_list, reverse=True)\n",
    "    # Getting top 5 busiest stations\n",
    "    top_5_ridership = ridership_sorted[:5]\n",
    "    top_5_stations = [G.nodes[i[1]]['name'] for i in top_5_ridership]\n",
    "    return top_5_stations"
   ]
  },
  {
   "cell_type": "code",
   "execution_count": 23,
   "id": "4279df2a",
   "metadata": {},
   "outputs": [
    {
     "data": {
      "text/plain": [
       "['Times Sq-42 St (N,Q,R,W,S,1,2,3,7)/42 St (A,C,E)',\n",
       " 'Grand Central-42 St (S,4,5,6,7)',\n",
       " '34 St-Herald Sq (B,D,F,M,N,Q,R,W)',\n",
       " '74-Broadway (7)/Jackson Hts-Roosevelt Av (E,F,M,R)',\n",
       " 'Fulton St (A,C,J,Z,2,3,4,5)']"
      ]
     },
     "execution_count": 23,
     "metadata": {},
     "output_type": "execute_result"
    }
   ],
   "source": [
    "q2d(G)"
   ]
  },
  {
   "cell_type": "code",
   "execution_count": 24,
   "id": "92c0db69",
   "metadata": {},
   "outputs": [],
   "source": [
    "# Question 2) e.\n",
    "def q2e(G):\n",
    "    # List of valid hours of the day\n",
    "    valid_hours = np.arange(18, 22)\n",
    "    # List of stations and their total ridership\n",
    "    station_ridership_list = []\n",
    "    # Iterate through each station\n",
    "    for station in G.nodes:\n",
    "        # List of all unique ride pairs where station is destination\n",
    "        dest_rides = set([i for i in G.in_edges(station)])\n",
    "        # Total ridership of station\n",
    "        total_ridership = 0\n",
    "        for ride in dest_rides:\n",
    "            # Adding ridership from valid hours of the day\n",
    "            total_ridership += sum([G.get_edge_data(ride[0], ride[1], i)['ridership'] \n",
    "                                    for i in G.get_edge_data(ride[0], ride[1]) \n",
    "                                    if G.get_edge_data(ride[0], ride[1], i)['hour'] in valid_hours])\n",
    "        station_ridership_list += [(total_ridership, station)]\n",
    "    # Sorting stations by total ridership\n",
    "    ridership_sorted = sorted(station_ridership_list, reverse=True)\n",
    "    # Getting top 5 busiest stations\n",
    "    top_5_ridership = ridership_sorted[:5]\n",
    "    top_5_stations = [G.nodes[i[1]]['name'] for i in top_5_ridership]\n",
    "    return top_5_stations"
   ]
  },
  {
   "cell_type": "code",
   "execution_count": 25,
   "id": "475ff08a",
   "metadata": {},
   "outputs": [
    {
     "data": {
      "text/plain": [
       "['Times Sq-42 St (N,Q,R,W,S,1,2,3,7)/42 St (A,C,E)',\n",
       " 'Grand Central-42 St (S,4,5,6,7)',\n",
       " '34 St-Herald Sq (B,D,F,M,N,Q,R,W)',\n",
       " '74-Broadway (7)/Jackson Hts-Roosevelt Av (E,F,M,R)',\n",
       " '14 St-Union Sq (L,N,Q,R,W,4,5,6)']"
      ]
     },
     "execution_count": 25,
     "metadata": {},
     "output_type": "execute_result"
    }
   ],
   "source": [
    "q2e(G)"
   ]
  },
  {
   "cell_type": "markdown",
   "id": "d01b306b",
   "metadata": {},
   "source": [
    "### Question 3"
   ]
  },
  {
   "cell_type": "code",
   "execution_count": 26,
   "id": "b9f03d82",
   "metadata": {},
   "outputs": [],
   "source": [
    "# Question 3) a.\n",
    "def q3a(G):\n",
    "    # List of valid hours of the day\n",
    "    valid_hours = np.arange(13, 15)\n",
    "    # List of valid days of the week\n",
    "    valid_days = ['Monday']\n",
    "    # List of station pairs and their total ridership\n",
    "    station_pairs_ridership_list = []\n",
    "    # Iterate through each station\n",
    "    for station in G.nodes:\n",
    "        # List of all unique ride pairs where station is destination\n",
    "        origin_rides = set([i for i in G.out_edges(station)])\n",
    "        for ride in origin_rides:\n",
    "            total_ridership = sum([G.get_edge_data(ride[0], ride[1], i)['ridership'] \n",
    "                                    for i in G.get_edge_data(ride[0], ride[1]) \n",
    "                                    if G.get_edge_data(ride[0], ride[1], i)['hour'] in valid_hours \n",
    "                                    and G.get_edge_data(ride[0], ride[1], i)['day'] in valid_days])\n",
    "            station_pairs_ridership_list += [(total_ridership, ride)]\n",
    "    # Sorting station pairs by total ridership\n",
    "    ridership_sorted = sorted(station_pairs_ridership_list, reverse=True)\n",
    "    # Getting top 10 busiest station pairs\n",
    "    top_10_ridership = ridership_sorted[:10]\n",
    "    top_10_stations = [(G.nodes[i[1][0]]['name'], G.nodes[i[1][1]]['name']) for i in top_10_ridership]\n",
    "    return top_10_stations"
   ]
  },
  {
   "cell_type": "code",
   "execution_count": 27,
   "id": "567df334",
   "metadata": {},
   "outputs": [
    {
     "data": {
      "text/plain": [
       "[('Grand Central-42 St (S,4,5,6,7)',\n",
       "  'Times Sq-42 St (N,Q,R,W,S,1,2,3,7)/42 St (A,C,E)'),\n",
       " ('Flushing-Main St (7)', '103 St-Corona Plaza (7)'),\n",
       " ('Fulton St (A,C,J,Z,2,3,4,5)', 'Grand Central-42 St (S,4,5,6,7)'),\n",
       " ('Flushing-Main St (7)', 'Junction Blvd (7)'),\n",
       " ('Grand Central-42 St (S,4,5,6,7)', '14 St-Union Sq (L,N,Q,R,W,4,5,6)'),\n",
       " ('Flushing-Main St (7)',\n",
       "  '74-Broadway (7)/Jackson Hts-Roosevelt Av (E,F,M,R)'),\n",
       " ('14 St-Union Sq (L,N,Q,R,W,4,5,6)', 'Grand Central-42 St (S,4,5,6,7)'),\n",
       " ('Junction Blvd (7)', 'Flushing-Main St (7)'),\n",
       " ('Times Sq-42 St (N,Q,R,W,S,1,2,3,7)/42 St (A,C,E)',\n",
       "  'Grand Central-42 St (S,4,5,6,7)'),\n",
       " ('Grand Central-42 St (S,4,5,6,7)', 'Fulton St (A,C,J,Z,2,3,4,5)')]"
      ]
     },
     "execution_count": 27,
     "metadata": {},
     "output_type": "execute_result"
    }
   ],
   "source": [
    "q3a(G)"
   ]
  },
  {
   "cell_type": "code",
   "execution_count": 28,
   "id": "eddcdbdd",
   "metadata": {},
   "outputs": [
    {
     "data": {
      "text/plain": [
       "[('Grand Central-42 St (S,4,5,6,7)',\n",
       "  'Times Sq-42 St (N,Q,R,W,S,1,2,3,7)/42 St (A,C,E)'),\n",
       " ('Flushing-Main St (7)', '103 St-Corona Plaza (7)'),\n",
       " ('Fulton St (A,C,J,Z,2,3,4,5)', 'Grand Central-42 St (S,4,5,6,7)'),\n",
       " ('Flushing-Main St (7)', 'Junction Blvd (7)'),\n",
       " ('Grand Central-42 St (S,4,5,6,7)', '14 St-Union Sq (L,N,Q,R,W,4,5,6)'),\n",
       " ('Flushing-Main St (7)',\n",
       "  '74-Broadway (7)/Jackson Hts-Roosevelt Av (E,F,M,R)'),\n",
       " ('14 St-Union Sq (L,N,Q,R,W,4,5,6)', 'Grand Central-42 St (S,4,5,6,7)'),\n",
       " ('Junction Blvd (7)', 'Flushing-Main St (7)'),\n",
       " ('Times Sq-42 St (N,Q,R,W,S,1,2,3,7)/42 St (A,C,E)',\n",
       "  'Grand Central-42 St (S,4,5,6,7)'),\n",
       " ('Grand Central-42 St (S,4,5,6,7)', 'Fulton St (A,C,J,Z,2,3,4,5)')]"
      ]
     },
     "execution_count": 28,
     "metadata": {},
     "output_type": "execute_result"
    }
   ],
   "source": [
    "q3a(G)"
   ]
  },
  {
   "cell_type": "code",
   "execution_count": 29,
   "id": "a59b8037",
   "metadata": {},
   "outputs": [],
   "source": [
    "# Question 3) b.\n",
    "def q3b(G):\n",
    "    # List of valid hours of the day\n",
    "    valid_hours = np.arange(18, 22)\n",
    "    # List of valid days of the week\n",
    "    valid_days = ['Friday']\n",
    "    # Valid borough\n",
    "    valid_borough = 'Q'\n",
    "    # List of station pairs and their total ridership\n",
    "    station_pairs_ridership_list = []\n",
    "    # Iterate through each station\n",
    "    for station in G.nodes:\n",
    "        # List of all unique ride pairs where station is origin and both stations in borough\n",
    "        origin_rides = set([i for i in G.out_edges(station) \n",
    "                        if G.nodes[i[0]]['borough'] == valid_borough \n",
    "                        and G.nodes[i[1]]['borough'] == valid_borough])\n",
    "        for ride in origin_rides:\n",
    "            total_ridership = sum([G.get_edge_data(ride[0], ride[1], i)['ridership'] \n",
    "                                    for i in G.get_edge_data(ride[0], ride[1]) \n",
    "                                    if G.get_edge_data(ride[0], ride[1], i)['hour'] in valid_hours \n",
    "                                    and G.get_edge_data(ride[0], ride[1], i)['day'] in valid_days])\n",
    "            station_pairs_ridership_list += [(total_ridership, ride)]\n",
    "    # Sorting station pairs by total ridership\n",
    "    ridership_sorted = sorted(station_pairs_ridership_list, reverse=True)\n",
    "    # Getting top 10 busiest station pairs\n",
    "    top_10_ridership = ridership_sorted[:10]\n",
    "    top_10_stations = [(G.nodes[i[1][0]]['name'], G.nodes[i[1][1]]['name']) for i in top_10_ridership]\n",
    "    return top_10_stations"
   ]
  },
  {
   "cell_type": "code",
   "execution_count": 30,
   "id": "437c111c",
   "metadata": {},
   "outputs": [
    {
     "data": {
      "text/plain": [
       "[('Flushing-Main St (7)',\n",
       "  '74-Broadway (7)/Jackson Hts-Roosevelt Av (E,F,M,R)'),\n",
       " ('Flushing-Main St (7)', '103 St-Corona Plaza (7)'),\n",
       " ('Flushing-Main St (7)', 'Junction Blvd (7)'),\n",
       " ('Junction Blvd (7)', 'Flushing-Main St (7)'),\n",
       " ('Flushing-Main St (7)', '90 St-Elmhurst Av (7)'),\n",
       " ('74-Broadway (7)/Jackson Hts-Roosevelt Av (E,F,M,R)',\n",
       "  'Flushing-Main St (7)'),\n",
       " ('103 St-Corona Plaza (7)', 'Flushing-Main St (7)'),\n",
       " ('Flushing-Main St (7)', '111 St (7)'),\n",
       " ('82 St-Jackson Hts (7)', 'Flushing-Main St (7)'),\n",
       " ('74-Broadway (7)/Jackson Hts-Roosevelt Av (E,F,M,R)', 'Jamaica-179 St (F)')]"
      ]
     },
     "execution_count": 30,
     "metadata": {},
     "output_type": "execute_result"
    }
   ],
   "source": [
    "q3b(G)"
   ]
  },
  {
   "cell_type": "code",
   "execution_count": 31,
   "id": "ba88c43f",
   "metadata": {},
   "outputs": [],
   "source": [
    "# Question 3) c.\n",
    "def q3c(G):\n",
    "    # List of valid hours of the day\n",
    "    valid_hours = np.arange(1, 6)\n",
    "    # Valid borough\n",
    "    valid_borough = 'Bk'\n",
    "    # List of station pairs and their total ridership\n",
    "    station_pairs_ridership_list = []\n",
    "    # Iterate through each station\n",
    "    for station in G.nodes:\n",
    "        # List of all unique ride pairs where station is origin and both stations in borough\n",
    "        origin_rides = set([i for i in G.out_edges(station) \n",
    "                        if G.nodes[i[0]]['borough'] == valid_borough \n",
    "                        and G.nodes[i[1]]['borough'] == valid_borough])\n",
    "        for ride in origin_rides:\n",
    "            total_ridership = sum([G.get_edge_data(ride[0], ride[1], i)['ridership'] \n",
    "                                    for i in G.get_edge_data(ride[0], ride[1]) \n",
    "                                    if G.get_edge_data(ride[0], ride[1], i)['hour'] in valid_hours])\n",
    "            station_pairs_ridership_list += [(total_ridership, ride)]\n",
    "    # Sorting station pairs by total ridership\n",
    "    ridership_sorted = sorted(station_pairs_ridership_list, reverse=True)\n",
    "    # Getting top 10 busiest station pairs\n",
    "    top_10_ridership = ridership_sorted[:10]\n",
    "    top_10_stations = [(G.nodes[i[1][0]]['name'], G.nodes[i[1][1]]['name']) for i in top_10_ridership]\n",
    "    return top_10_stations"
   ]
  },
  {
   "cell_type": "code",
   "execution_count": 32,
   "id": "3cba4eb2",
   "metadata": {},
   "outputs": [
    {
     "data": {
      "text/plain": [
       "[('Crown Hts-Utica Av (3,4)', 'Atlantic Av-Barclays Ctr (B,D,N,Q,R,2,3,4,5)'),\n",
       " ('Flatbush Av-Brooklyn College (2,5)',\n",
       "  'Atlantic Av-Barclays Ctr (B,D,N,Q,R,2,3,4,5)'),\n",
       " ('Bedford Av (L)', 'Myrtle-Wyckoff Avs (L,M)'),\n",
       " ('Crown Hts-Utica Av (3,4)', 'Court St (R)/Borough Hall (2,3,4,5)'),\n",
       " ('Myrtle-Wyckoff Avs (L,M)', 'Bedford Av (L)'),\n",
       " ('Crown Hts-Utica Av (3,4)', 'Nevins St (2,3,4,5)'),\n",
       " ('Euclid Av (A,C)', 'Jay St-MetroTech (A,C,F,R)'),\n",
       " ('Atlantic Av-Barclays Ctr (B,D,N,Q,R,2,3,4,5)', '36 St (D,N,R)'),\n",
       " ('Bedford Av (L)', 'DeKalb Av (L)'),\n",
       " ('Lorimer St (L)/Metropolitan Av (G)', 'Myrtle-Wyckoff Avs (L,M)')]"
      ]
     },
     "execution_count": 32,
     "metadata": {},
     "output_type": "execute_result"
    }
   ],
   "source": [
    "q3c(G)"
   ]
  },
  {
   "cell_type": "code",
   "execution_count": 33,
   "id": "40cc2385",
   "metadata": {},
   "outputs": [],
   "source": [
    "# Question 3) d.\n",
    "def q3d(G):\n",
    "    # List of valid hours of the day\n",
    "    valid_hours = np.arange(6, 8)\n",
    "    # List of valid days of the week\n",
    "    valid_days = ['Monday', 'Tuesday', 'Wednesday', 'Thursday']\n",
    "    # Borough where origin station located\n",
    "    origin_borough = 'Bk'\n",
    "    # Borough where destination station located\n",
    "    dest_borough = 'M'\n",
    "    # List of station pairs and their total ridership\n",
    "    station_pairs_ridership_list = []\n",
    "    # Iterate through each station\n",
    "    for station in G.nodes:\n",
    "        # List of all unique ride pairs where station is origin and both stations in borough\n",
    "        origin_rides = set([i for i in G.out_edges(station) \n",
    "                        if G.nodes[i[0]]['borough'] == origin_borough \n",
    "                        and G.nodes[i[1]]['borough'] == dest_borough])\n",
    "        for ride in origin_rides:\n",
    "            total_ridership = sum([G.get_edge_data(ride[0], ride[1], i)['ridership'] \n",
    "                                    for i in G.get_edge_data(ride[0], ride[1]) \n",
    "                                    if G.get_edge_data(ride[0], ride[1], i)['hour'] in valid_hours\n",
    "                                    and G.get_edge_data(ride[0], ride[1], i)['day'] in valid_days])\n",
    "            station_pairs_ridership_list += [(total_ridership, ride)]\n",
    "    # Sorting station pairs by total ridership\n",
    "    ridership_sorted = sorted(station_pairs_ridership_list, reverse=True)\n",
    "    # Getting top 10 busiest station pairs\n",
    "    top_10_ridership = ridership_sorted[:10]\n",
    "    top_10_stations = [(G.nodes[i[1][0]]['name'], G.nodes[i[1][1]]['name']) for i in top_10_ridership]\n",
    "    return top_10_stations"
   ]
  },
  {
   "cell_type": "code",
   "execution_count": 34,
   "id": "f5b65a9a",
   "metadata": {},
   "outputs": [
    {
     "data": {
      "text/plain": [
       "[('Atlantic Av-Barclays Ctr (B,D,N,Q,R,2,3,4,5)', 'Bowling Green (4,5)'),\n",
       " ('Crown Hts-Utica Av (3,4)', 'Grand Central-42 St (S,4,5,6,7)'),\n",
       " ('Kings Hwy (B,Q)', '34 St-Herald Sq (B,D,F,M,N,Q,R,W)'),\n",
       " ('Court St (R)/Borough Hall (2,3,4,5)', 'Grand Central-42 St (S,4,5,6,7)'),\n",
       " ('Flatbush Av-Brooklyn College (2,5)', 'Grand Central-42 St (S,4,5,6,7)'),\n",
       " ('Crown Hts-Utica Av (3,4)', 'Fulton St (A,C,J,Z,2,3,4,5)'),\n",
       " ('Flatbush Av-Brooklyn College (2,5)', 'Fulton St (A,C,J,Z,2,3,4,5)'),\n",
       " ('Bedford Av (L)', 'Grand Central-42 St (S,4,5,6,7)'),\n",
       " ('Kings Hwy (B,Q)', '47-50 Sts-Rockefeller Ctr (B,D,F,M)'),\n",
       " ('Sheepshead Bay (B,Q)', '47-50 Sts-Rockefeller Ctr (B,D,F,M)')]"
      ]
     },
     "execution_count": 34,
     "metadata": {},
     "output_type": "execute_result"
    }
   ],
   "source": [
    "q3d(G)"
   ]
  },
  {
   "cell_type": "code",
   "execution_count": 35,
   "id": "415e0d83",
   "metadata": {},
   "outputs": [],
   "source": [
    "# Question 3) e.\n",
    "def q3e(G):\n",
    "    # List of valid hours of the day\n",
    "    valid_hours = np.arange(6, 8)\n",
    "    # List of valid days of the week\n",
    "    valid_days = ['Monday', 'Tuesday', 'Wednesday', 'Thursday']\n",
    "    # Borough where origin station located\n",
    "    origin_borough = 'Bx'\n",
    "    # Borough where destination station located\n",
    "    dest_borough = 'M'\n",
    "    # List of station pairs and their total ridership\n",
    "    station_pairs_ridership_list = []\n",
    "    # Iterate through each station\n",
    "    for station in G.nodes:\n",
    "        # List of all unique ride pairs where station is origin and both stations in borough\n",
    "        origin_rides = set([i for i in G.out_edges(station) \n",
    "                        if G.nodes[i[0]]['borough'] == origin_borough \n",
    "                        and G.nodes[i[1]]['borough'] == dest_borough])\n",
    "        for ride in origin_rides:\n",
    "            total_ridership = sum([G.get_edge_data(ride[0], ride[1], i)['ridership'] \n",
    "                                    for i in G.get_edge_data(ride[0], ride[1]) \n",
    "                                    if G.get_edge_data(ride[0], ride[1], i)['hour'] in valid_hours\n",
    "                                    and G.get_edge_data(ride[0], ride[1], i)['day'] in valid_days])\n",
    "            station_pairs_ridership_list += [(total_ridership, ride)]\n",
    "    # Sorting station pairs by total ridership\n",
    "    ridership_sorted = sorted(station_pairs_ridership_list, reverse=True)\n",
    "    # Getting top 10 busiest station pairs\n",
    "    top_10_ridership = ridership_sorted[:10]\n",
    "    top_10_stations = [(G.nodes[i[1][0]]['name'], G.nodes[i[1][1]]['name']) for i in top_10_ridership]\n",
    "    return top_10_stations"
   ]
  },
  {
   "cell_type": "code",
   "execution_count": 36,
   "id": "9c82ca6e",
   "metadata": {},
   "outputs": [
    {
     "data": {
      "text/plain": [
       "[('Parkchester (6)', 'Grand Central-42 St (S,4,5,6,7)'),\n",
       " ('Parkchester (6)', '14 St-Union Sq (L,N,Q,R,W,4,5,6)'),\n",
       " ('Parkchester (6)', '125 St (4,5,6)'),\n",
       " ('Parkchester (6)', '68 St-Hunter College (6)'),\n",
       " ('Parkchester (6)', '86 St (4,5,6)'),\n",
       " ('Parkchester (6)', 'Lexington Av-53 St (E,M)/51 St (6)'),\n",
       " ('Parkchester (6)', 'Fulton St (A,C,J,Z,2,3,4,5)'),\n",
       " ('Parkchester (6)', 'Brooklyn Bridge-City Hall (4,5,6)/Chambers St (J,Z)'),\n",
       " ('161 St-Yankee Stadium (B,D,4)', '59 St-Columbus Circle (A,B,C,D,1)'),\n",
       " ('Woodlawn (4)', '86 St (4,5,6)')]"
      ]
     },
     "execution_count": 36,
     "metadata": {},
     "output_type": "execute_result"
    }
   ],
   "source": [
    "q3e(G)"
   ]
  },
  {
   "cell_type": "code",
   "execution_count": 37,
   "id": "31c83db8",
   "metadata": {},
   "outputs": [],
   "source": [
    "# Question 3) f.\n",
    "def q3f(G):\n",
    "    # List of valid hours of the day\n",
    "    valid_hours = np.arange(6, 8)\n",
    "    # List of valid days of the week\n",
    "    valid_days = ['Monday', 'Tuesday', 'Wednesday', 'Thursday']\n",
    "    # Borough where origin station located\n",
    "    origin_borough = 'SI'\n",
    "    # Borough where destination station located\n",
    "    dest_borough = 'M'\n",
    "    # List of station pairs and their total ridership\n",
    "    station_pairs_ridership_list = []\n",
    "    # Iterate through each station\n",
    "    for station in G.nodes:\n",
    "        # List of all unique ride pairs where station is origin and both stations in borough\n",
    "        origin_rides = set([i for i in G.out_edges(station) \n",
    "                        if G.nodes[i[0]]['borough'] == origin_borough \n",
    "                        and G.nodes[i[1]]['borough'] == dest_borough])\n",
    "        for ride in origin_rides:\n",
    "            total_ridership = sum([G.get_edge_data(ride[0], ride[1], i)['ridership'] \n",
    "                                    for i in G.get_edge_data(ride[0], ride[1]) \n",
    "                                    if G.get_edge_data(ride[0], ride[1], i)['hour'] in valid_hours\n",
    "                                    and G.get_edge_data(ride[0], ride[1], i)['day'] in valid_days])\n",
    "            station_pairs_ridership_list += [(total_ridership, ride)]\n",
    "    # Sorting station pairs by total ridership\n",
    "    ridership_sorted = sorted(station_pairs_ridership_list, reverse=True)\n",
    "    # Getting top 10 busiest station pairs\n",
    "    top_10_ridership = ridership_sorted[:10]\n",
    "    top_10_stations = [(G.nodes[i[1][0]]['name'], G.nodes[i[1][1]]['name']) for i in top_10_ridership]\n",
    "    return top_10_stations"
   ]
  },
  {
   "cell_type": "code",
   "execution_count": 38,
   "id": "a8ee836a",
   "metadata": {},
   "outputs": [
    {
     "data": {
      "text/plain": [
       "[]"
      ]
     },
     "execution_count": 38,
     "metadata": {},
     "output_type": "execute_result"
    }
   ],
   "source": [
    "q3f(G)"
   ]
  },
  {
   "cell_type": "code",
   "execution_count": null,
   "id": "d9e71526",
   "metadata": {},
   "outputs": [],
   "source": []
  }
 ],
 "metadata": {
  "kernelspec": {
   "display_name": "Python 3 (ipykernel)",
   "language": "python",
   "name": "python3"
  },
  "language_info": {
   "codemirror_mode": {
    "name": "ipython",
    "version": 3
   },
   "file_extension": ".py",
   "mimetype": "text/x-python",
   "name": "python",
   "nbconvert_exporter": "python",
   "pygments_lexer": "ipython3",
   "version": "3.8.15"
  }
 },
 "nbformat": 4,
 "nbformat_minor": 5
}
